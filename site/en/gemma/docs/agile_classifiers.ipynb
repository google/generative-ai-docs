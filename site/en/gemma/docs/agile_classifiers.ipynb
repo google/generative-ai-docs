{
  "cells": [
    {
      "cell_type": "markdown",
      "metadata": {
        "id": "G3MMAcssHTML"
      },
      "source": [
        "<link rel=\"stylesheet\" href=\"/site-assets/css/gemma.css\">\n",
        "<link rel=\"stylesheet\" href=\"https://fonts.googleapis.com/css2?family=Google+Symbols:opsz,wght,FILL,GRAD@20..48,100..700,0..1,-50..200\" />"
      ]
    },
    {
      "cell_type": "markdown",
      "metadata": {
        "id": "Tce3stUlHN0L"
      },
      "source": [
        "##### Copyright 2024 Google LLC."
      ]
    },
    {
      "cell_type": "code",
      "execution_count": null,
      "metadata": {
        "cellView": "form",
        "id": "tuOe1ymfHZPu"
      },
      "outputs": [],
      "source": [
        "#@title Licensed under the Apache License, Version 2.0 (the \"License\");\n",
        "# you may not use this file except in compliance with the License.\n",
        "# You may obtain a copy of the License at\n",
        "#\n",
        "# https://www.apache.org/licenses/LICENSE-2.0\n",
        "#\n",
        "# Unless required by applicable law or agreed to in writing, software\n",
        "# distributed under the License is distributed on an \"AS IS\" BASIS,\n",
        "# WITHOUT WARRANTIES OR CONDITIONS OF ANY KIND, either express or implied.\n",
        "# See the License for the specific language governing permissions and\n",
        "# limitations under the License."
      ]
    },
    {
      "cell_type": "markdown",
      "metadata": {
        "id": "PXNm5_p_oxMF"
      },
      "source": [
        "# Showcasing Agile Safety Classifiers with Gemma"
      ]
    },
    {
      "cell_type": "markdown",
      "metadata": {
        "id": "GrGMv8e4XxUI"
      },
      "source": [
        "<table class=\"tfo-notebook-buttons\" align=\"left\">\n",
        "  <td>\n",
        "    <a target=\"_blank\" href=\"https://ai.google.dev/gemma/docs/agile_classifiers\"><img src=\"https://ai.google.dev/static/site-assets/images/docs/notebook-site-button.png\" height=\"32\" width=\"32\" />View on Generative AI</a>\n",
        "  <td>\n",
        "    <a target=\"_blank\" href=\"https://colab.research.google.com/github/google/generative-ai-docs/blob/main/site/en/gemma/docs/agile_classifiers.ipynb\"><img src=\"https://www.tensorflow.org/images/colab_logo_32px.png\" />Run in Google Colab</a>\n",
        "  </td>\n",
        "  <td>\n",
        "    <a target=\"_blank\" href=\"https://github.com/google/generative-ai-docs/blob/main/site/en/gemma/docs/agile_classifiers.ipynb\"><img src=\"https://www.tensorflow.org/images/GitHub-Mark-32px.png\" />View source on GitHub</a>\n",
        "  </td>\n",
        "  <td>\n",
        "    <a target=\"_blank\" href=\"https://codelabs.developers.google.com/codelabs/responsible-ai/agile-classifiers\"><img src=\"https://www.tensorflow.org/images/codelabs_logo.png\" height=\"24\" width=\"48\"/>Learn in Codelabs</a>\n",
        "  </td>\n",
        "</table>"
      ]
    },
    {
      "cell_type": "markdown",
      "metadata": {
        "id": "Fn1NwT2fB6H6"
      },
      "source": [
        "This codelab illustrates how to create a customised text classifier using\n",
        "parameter efficient tuning (PET). Instead of fine-tuning the whole model, PET\n",
        "methods update only a small amount of parameters, which makes it relatively easy\n",
        "and fast to train. It also makes it easier for a model to learn new behaviors\n",
        "with relatively little training data. The methodology is described in detail in\n",
        "[*Towards Agile Text Classifiers for Everyone*][paper-agile-classifiers] which\n",
        "shows how these techniques can be applied to a variety of safety tasks and\n",
        "achieve state of the art performance with only a few hundred training examples.\n",
        "\n",
        "This codelab uses the [LoRA](https://arxiv.org/abs/2106.09685) PET method and\n",
        "the smaller Gemma model (`gemma_instruct_2b_en`) since that can be run faster\n",
        "and more efficiently. The colab covers the steps of ingesting data, formatting\n",
        "it for the LLM, training LoRA weights, and then evaluating the results. This\n",
        "codelab trains on the [ETHOS dataset][ethos-dataset], a publicly available\n",
        "dataset for detecting hateful speech, built from YouTube and Reddit comments.\n",
        "When trained on only 200 examples (1/4 of the dataset) it achieves F1: 0.80 and\n",
        "ROC-AUC: 0.78, slightly above the SOTA currently reported on\n",
        "[the leaderboard][ethos-leaderboard] (at the time of writing, 15 Feb 2024). When\n",
        "trained on the full 800 examples, like it achieves an F1 score of 83.74 and a\n",
        "ROC-AUC score of 88.17. Larger models, like `gemma_instruct_7b_en` will\n",
        "generally perform better, but training and execution costs are also larger.\n",
        "\n",
        "**Trigger Warning**: because this codelab develops a safety classifier for\n",
        "detecting hateful speech, examples and evaluation of the results contains some\n",
        "horrible language.\n",
        "\n",
        "[paper-agile-classifiers]: https://arxiv.org/abs/2302.06541\n",
        "[ethos-dataset]: https://arxiv.org/abs/2006.08328\n",
        "[ethos-leaderboard]: https://paperswithcode.com/sota/hate-speech-detection-on-ethos-binary"
      ]
    },
    {
      "cell_type": "markdown",
      "metadata": {
        "id": "f0Pfoa65CVs6"
      },
      "source": [
        "## Installation and Setup\n",
        "\n",
        "For this codelab, you will need a recent version `keras` (3), `keras-nlp`\n",
        "(0.8.0) and a Kaggle account to download the base model."
      ]
    },
    {
      "cell_type": "code",
      "execution_count": null,
      "metadata": {
        "id": "6QfrkE6CCkck"
      },
      "outputs": [],
      "source": [
        "import kagglehub\n",
        "\n",
        "kagglehub.login()"
      ]
    },
    {
      "cell_type": "code",
      "execution_count": null,
      "metadata": {
        "id": "zHs7wpZusEML"
      },
      "outputs": [],
      "source": [
        "!pip install -q -U keras-nlp\n",
        "!pip install -q -U keras"
      ]
    },
    {
      "cell_type": "code",
      "execution_count": null,
      "metadata": {
        "id": "yn5uy8X8sdD0"
      },
      "outputs": [],
      "source": [
        "import os\n",
        "\n",
        "os.environ[\"KERAS_BACKEND\"] = \"tensorflow\""
      ]
    },
    {
      "cell_type": "markdown",
      "metadata": {
        "id": "RETIODEyD9Mh"
      },
      "source": [
        "## Load ETHOS dataset\n",
        "\n",
        "In this section you will load the dataset on which to train our classifier and\n",
        "preprocess it into a train and test set. You will use the popular research\n",
        "dataset ETHOS which was collected to detect hate speech in social media. You\n",
        "can find more information about how the dataset was collected in the paper\n",
        "[ETHOS: an Online Hate Speech Detection Dataset][ethos-dataset]."
      ]
    },
    {
      "cell_type": "code",
      "execution_count": null,
      "metadata": {
        "id": "yIpviRPcDmDx"
      },
      "outputs": [
        {
          "data": {
            "application/vnd.google.colaboratory.intrinsic+json": {
              "summary": "{\n  \"name\": \"df\",\n  \"rows\": 998,\n  \"fields\": [\n    {\n      \"column\": \"comment\",\n      \"properties\": {\n        \"dtype\": \"string\",\n        \"num_unique_values\": 998,\n        \"samples\": [\n          \"EXECUTE OHOMO AND HIS SHEMALE BITCH MIKE.\",\n          \"men and women are not equal.  irrational contrary belief and policy only result in mounting failure.\",\n          \"Indians are shit but burgers only have broken English and ebonics to learn and still fail. Second thread in a row where a burger can't figure out you're and your\"\n        ],\n        \"semantic_type\": \"\",\n        \"description\": \"\"\n      }\n    },\n    {\n      \"column\": \"isHate\",\n      \"properties\": {\n        \"dtype\": \"number\",\n        \"std\": 0.39176318927884884,\n        \"min\": 0.0,\n        \"max\": 1.0,\n        \"num_unique_values\": 43,\n        \"samples\": [\n          0.4,\n          0.9838709677419356,\n          0.603448275862069\n        ],\n        \"semantic_type\": \"\",\n        \"description\": \"\"\n      }\n    },\n    {\n      \"column\": \"hateful\",\n      \"properties\": {\n        \"dtype\": \"number\",\n        \"std\": 0,\n        \"min\": 0,\n        \"max\": 1,\n        \"num_unique_values\": 2,\n        \"samples\": [\n          1,\n          0\n        ],\n        \"semantic_type\": \"\",\n        \"description\": \"\"\n      }\n    }\n  ]\n}",
              "type": "dataframe",
              "variable_name": "df"
            },
            "text/html": [
              "\n",
              "  <div id=\"df-b045a877-d79c-47c9-ae9b-e37dd1079900\" class=\"colab-df-container\">\n",
              "    <div>\n",
              "<style scoped>\n",
              "    .dataframe tbody tr th:only-of-type {\n",
              "        vertical-align: middle;\n",
              "    }\n",
              "\n",
              "    .dataframe tbody tr th {\n",
              "        vertical-align: top;\n",
              "    }\n",
              "\n",
              "    .dataframe thead th {\n",
              "        text-align: right;\n",
              "    }\n",
              "</style>\n",
              "<table border=\"1\" class=\"dataframe\">\n",
              "  <thead>\n",
              "    <tr style=\"text-align: right;\">\n",
              "      <th></th>\n",
              "      <th>hateful</th>\n",
              "      <th>comment</th>\n",
              "    </tr>\n",
              "  </thead>\n",
              "  <tbody>\n",
              "    <tr>\n",
              "      <th>517</th>\n",
              "      <td>0</td>\n",
              "      <td>You said he but still not convinced this is a ...</td>\n",
              "    </tr>\n",
              "    <tr>\n",
              "      <th>685</th>\n",
              "      <td>0</td>\n",
              "      <td>well, looks like its time to have another child</td>\n",
              "    </tr>\n",
              "    <tr>\n",
              "      <th>706</th>\n",
              "      <td>0</td>\n",
              "      <td>to be honest I am part of the LGBT community a...</td>\n",
              "    </tr>\n",
              "    <tr>\n",
              "      <th>182</th>\n",
              "      <td>1</td>\n",
              "      <td>What if we send every men to mars to start a n...</td>\n",
              "    </tr>\n",
              "    <tr>\n",
              "      <th>829</th>\n",
              "      <td>0</td>\n",
              "      <td>It doesn't matter if you're black or white, ...</td>\n",
              "    </tr>\n",
              "  </tbody>\n",
              "</table>\n",
              "</div>\n",
              "    <div class=\"colab-df-buttons\">\n",
              "\n",
              "  <div class=\"colab-df-container\">\n",
              "    <button class=\"colab-df-convert\" onclick=\"convertToInteractive('df-b045a877-d79c-47c9-ae9b-e37dd1079900')\"\n",
              "            title=\"Convert this dataframe to an interactive table.\"\n",
              "            style=\"display:none;\">\n",
              "\n",
              "  <svg xmlns=\"http://www.w3.org/2000/svg\" height=\"24px\" viewBox=\"0 -960 960 960\">\n",
              "    <path d=\"M120-120v-720h720v720H120Zm60-500h600v-160H180v160Zm220 220h160v-160H400v160Zm0 220h160v-160H400v160ZM180-400h160v-160H180v160Zm440 0h160v-160H620v160ZM180-180h160v-160H180v160Zm440 0h160v-160H620v160Z\"/>\n",
              "  </svg>\n",
              "    </button>\n",
              "\n",
              "  <style>\n",
              "    .colab-df-container {\n",
              "      display:flex;\n",
              "      gap: 12px;\n",
              "    }\n",
              "\n",
              "    .colab-df-convert {\n",
              "      background-color: #E8F0FE;\n",
              "      border: none;\n",
              "      border-radius: 50%;\n",
              "      cursor: pointer;\n",
              "      display: none;\n",
              "      fill: #1967D2;\n",
              "      height: 32px;\n",
              "      padding: 0 0 0 0;\n",
              "      width: 32px;\n",
              "    }\n",
              "\n",
              "    .colab-df-convert:hover {\n",
              "      background-color: #E2EBFA;\n",
              "      box-shadow: 0px 1px 2px rgba(60, 64, 67, 0.3), 0px 1px 3px 1px rgba(60, 64, 67, 0.15);\n",
              "      fill: #174EA6;\n",
              "    }\n",
              "\n",
              "    .colab-df-buttons div {\n",
              "      margin-bottom: 4px;\n",
              "    }\n",
              "\n",
              "    [theme=dark] .colab-df-convert {\n",
              "      background-color: #3B4455;\n",
              "      fill: #D2E3FC;\n",
              "    }\n",
              "\n",
              "    [theme=dark] .colab-df-convert:hover {\n",
              "      background-color: #434B5C;\n",
              "      box-shadow: 0px 1px 3px 1px rgba(0, 0, 0, 0.15);\n",
              "      filter: drop-shadow(0px 1px 2px rgba(0, 0, 0, 0.3));\n",
              "      fill: #FFFFFF;\n",
              "    }\n",
              "  </style>\n",
              "\n",
              "    <script>\n",
              "      const buttonEl =\n",
              "        document.querySelector('#df-b045a877-d79c-47c9-ae9b-e37dd1079900 button.colab-df-convert');\n",
              "      buttonEl.style.display =\n",
              "        google.colab.kernel.accessAllowed ? 'block' : 'none';\n",
              "\n",
              "      async function convertToInteractive(key) {\n",
              "        const element = document.querySelector('#df-b045a877-d79c-47c9-ae9b-e37dd1079900');\n",
              "        const dataTable =\n",
              "          await google.colab.kernel.invokeFunction('convertToInteractive',\n",
              "                                                    [key], {});\n",
              "        if (!dataTable) return;\n",
              "\n",
              "        const docLinkHtml = 'Like what you see? Visit the ' +\n",
              "          '<a target=\"_blank\" href=https://colab.research.google.com/notebooks/data_table.ipynb>data table notebook</a>'\n",
              "          + ' to learn more about interactive tables.';\n",
              "        element.innerHTML = '';\n",
              "        dataTable['output_type'] = 'display_data';\n",
              "        await google.colab.output.renderOutput(dataTable, element);\n",
              "        const docLink = document.createElement('div');\n",
              "        docLink.innerHTML = docLinkHtml;\n",
              "        element.appendChild(docLink);\n",
              "      }\n",
              "    </script>\n",
              "  </div>\n",
              "\n",
              "\n",
              "<div id=\"df-5952d6cf-0042-4ae3-b0c4-f5b0bdcb7834\">\n",
              "  <button class=\"colab-df-quickchart\" onclick=\"quickchart('df-5952d6cf-0042-4ae3-b0c4-f5b0bdcb7834')\"\n",
              "            title=\"Suggest charts\"\n",
              "            style=\"display:none;\">\n",
              "\n",
              "<svg xmlns=\"http://www.w3.org/2000/svg\" height=\"24px\"viewBox=\"0 0 24 24\"\n",
              "     width=\"24px\">\n",
              "    <g>\n",
              "        <path d=\"M19 3H5c-1.1 0-2 .9-2 2v14c0 1.1.9 2 2 2h14c1.1 0 2-.9 2-2V5c0-1.1-.9-2-2-2zM9 17H7v-7h2v7zm4 0h-2V7h2v10zm4 0h-2v-4h2v4z\"/>\n",
              "    </g>\n",
              "</svg>\n",
              "  </button>\n",
              "\n",
              "<style>\n",
              "  .colab-df-quickchart {\n",
              "      --bg-color: #E8F0FE;\n",
              "      --fill-color: #1967D2;\n",
              "      --hover-bg-color: #E2EBFA;\n",
              "      --hover-fill-color: #174EA6;\n",
              "      --disabled-fill-color: #AAA;\n",
              "      --disabled-bg-color: #DDD;\n",
              "  }\n",
              "\n",
              "  [theme=dark] .colab-df-quickchart {\n",
              "      --bg-color: #3B4455;\n",
              "      --fill-color: #D2E3FC;\n",
              "      --hover-bg-color: #434B5C;\n",
              "      --hover-fill-color: #FFFFFF;\n",
              "      --disabled-bg-color: #3B4455;\n",
              "      --disabled-fill-color: #666;\n",
              "  }\n",
              "\n",
              "  .colab-df-quickchart {\n",
              "    background-color: var(--bg-color);\n",
              "    border: none;\n",
              "    border-radius: 50%;\n",
              "    cursor: pointer;\n",
              "    display: none;\n",
              "    fill: var(--fill-color);\n",
              "    height: 32px;\n",
              "    padding: 0;\n",
              "    width: 32px;\n",
              "  }\n",
              "\n",
              "  .colab-df-quickchart:hover {\n",
              "    background-color: var(--hover-bg-color);\n",
              "    box-shadow: 0 1px 2px rgba(60, 64, 67, 0.3), 0 1px 3px 1px rgba(60, 64, 67, 0.15);\n",
              "    fill: var(--button-hover-fill-color);\n",
              "  }\n",
              "\n",
              "  .colab-df-quickchart-complete:disabled,\n",
              "  .colab-df-quickchart-complete:disabled:hover {\n",
              "    background-color: var(--disabled-bg-color);\n",
              "    fill: var(--disabled-fill-color);\n",
              "    box-shadow: none;\n",
              "  }\n",
              "\n",
              "  .colab-df-spinner {\n",
              "    border: 2px solid var(--fill-color);\n",
              "    border-color: transparent;\n",
              "    border-bottom-color: var(--fill-color);\n",
              "    animation:\n",
              "      spin 1s steps(1) infinite;\n",
              "  }\n",
              "\n",
              "  @keyframes spin {\n",
              "    0% {\n",
              "      border-color: transparent;\n",
              "      border-bottom-color: var(--fill-color);\n",
              "      border-left-color: var(--fill-color);\n",
              "    }\n",
              "    20% {\n",
              "      border-color: transparent;\n",
              "      border-left-color: var(--fill-color);\n",
              "      border-top-color: var(--fill-color);\n",
              "    }\n",
              "    30% {\n",
              "      border-color: transparent;\n",
              "      border-left-color: var(--fill-color);\n",
              "      border-top-color: var(--fill-color);\n",
              "      border-right-color: var(--fill-color);\n",
              "    }\n",
              "    40% {\n",
              "      border-color: transparent;\n",
              "      border-right-color: var(--fill-color);\n",
              "      border-top-color: var(--fill-color);\n",
              "    }\n",
              "    60% {\n",
              "      border-color: transparent;\n",
              "      border-right-color: var(--fill-color);\n",
              "    }\n",
              "    80% {\n",
              "      border-color: transparent;\n",
              "      border-right-color: var(--fill-color);\n",
              "      border-bottom-color: var(--fill-color);\n",
              "    }\n",
              "    90% {\n",
              "      border-color: transparent;\n",
              "      border-bottom-color: var(--fill-color);\n",
              "    }\n",
              "  }\n",
              "</style>\n",
              "\n",
              "  <script>\n",
              "    async function quickchart(key) {\n",
              "      const quickchartButtonEl =\n",
              "        document.querySelector('#' + key + ' button');\n",
              "      quickchartButtonEl.disabled = true;  // To prevent multiple clicks.\n",
              "      quickchartButtonEl.classList.add('colab-df-spinner');\n",
              "      try {\n",
              "        const charts = await google.colab.kernel.invokeFunction(\n",
              "            'suggestCharts', [key], {});\n",
              "      } catch (error) {\n",
              "        console.error('Error during call to suggestCharts:', error);\n",
              "      }\n",
              "      quickchartButtonEl.classList.remove('colab-df-spinner');\n",
              "      quickchartButtonEl.classList.add('colab-df-quickchart-complete');\n",
              "    }\n",
              "    (() => {\n",
              "      let quickchartButtonEl =\n",
              "        document.querySelector('#df-5952d6cf-0042-4ae3-b0c4-f5b0bdcb7834 button');\n",
              "      quickchartButtonEl.style.display =\n",
              "        google.colab.kernel.accessAllowed ? 'block' : 'none';\n",
              "    })();\n",
              "  </script>\n",
              "</div>\n",
              "\n",
              "    </div>\n",
              "  </div>\n"
            ],
            "text/plain": [
              "     hateful                                            comment\n",
              "517        0  You said he but still not convinced this is a ...\n",
              "685        0    well, looks like its time to have another child\n",
              "706        0  to be honest I am part of the LGBT community a...\n",
              "182        1  What if we send every men to mars to start a n...\n",
              "829        0  It doesn't matter if you're black or white, ..."
            ]
          },
          "execution_count": 7,
          "metadata": {},
          "output_type": "execute_result"
        }
      ],
      "source": [
        "import pandas as pd\n",
        "\n",
        "gh_root = 'https://raw.githubusercontent.com'\n",
        "gh_repo = 'intelligence-csd-auth-gr/Ethos-Hate-Speech-Dataset'\n",
        "gh_path = 'master/ethos/ethos_data/Ethos_Dataset_Binary.csv'\n",
        "data_url = f'{gh_root}/{gh_repo}/{gh_path}'\n",
        "\n",
        "df = pd.read_csv(data_url, delimiter=';')\n",
        "df['hateful'] = (df['isHate'] >= df['isHate'].median()).astype(int)\n",
        "\n",
        "# Shuffle the dataset.\n",
        "df = df.sample(frac=1, random_state=32)\n",
        "\n",
        "# Split into train and test.\n",
        "df_train, df_test = df[:800],  df[800:]\n",
        "\n",
        "# Display a sample of the data.\n",
        "df.head(5)[['hateful', 'comment']]"
      ]
    },
    {
      "cell_type": "markdown",
      "metadata": {
        "id": "A3QpLBWieMov"
      },
      "source": [
        "## Download and Instantiate the Model\n",
        "\n",
        "As described in [the documentation](//ai.google.dev/gem/docs), you can easily\n",
        "use the Gemma model in many ways. With Keras, this is what you need to do:"
      ]
    },
    {
      "cell_type": "code",
      "execution_count": null,
      "metadata": {
        "id": "Z3c05TR6D0Pj"
      },
      "outputs": [],
      "source": [
        "import keras\n",
        "import keras_nlp\n",
        "\n",
        "# For reproducibility purposes.\n",
        "keras.utils.set_random_seed(1234)\n",
        "\n",
        "# Download the model from Kaggle using Keras.\n",
        "model = keras_nlp.models.GemmaCausalLM.from_preset('gemma_instruct_2b_en')\n",
        "\n",
        "# Set the sequence length to a small enough value to fit in memory in Colab.\n",
        "model.preprocessor.sequence_length = 128"
      ]
    },
    {
      "cell_type": "code",
      "execution_count": null,
      "metadata": {
        "id": "UxQ3zVMtEAMp"
      },
      "outputs": [],
      "source": [
        "model.generate('Question: what is the capital of France? ', max_length=32)"
      ]
    },
    {
      "cell_type": "markdown",
      "metadata": {
        "id": "vIDvHi3EC1Vm"
      },
      "source": [
        "## Text Preprocessing and Separator Tokens\n",
        "\n",
        "To help the model understand our intent better, you can preprocess the text and\n",
        "use separator tokens. This makes it less likely for the model to generate text\n",
        "that does not fit the expected format. For example, you might attempt to request\n",
        "a sentiment classification from the model by writing a prompt like this:\n",
        "\n",
        "```console\n",
        "Classify the following text into one of the following classes:[Positive,Negative]\n",
        "\n",
        "Text: you look very nice today\n",
        "Classification:\n",
        "```\n",
        "\n",
        "In this case, the model may or may not output what you are looking for. For\n",
        "example, if the text contains newline characters, it's likely to have a negative\n",
        "effect on the model performance. A more robust approach is to use separator\n",
        "tokens. The prompt then becomes:\n",
        "\n",
        "```console\n",
        "Classify the following text into one of the following classes:[Positive,Negative]\n",
        "<separator>\n",
        "Text: you look very nice today\n",
        "<separator>\n",
        "Prediction:\n",
        "```\n",
        "\n",
        "This can be abstracted using a function that preprocesses the text:"
      ]
    },
    {
      "cell_type": "code",
      "execution_count": null,
      "metadata": {
        "id": "0RYw2dX3EGtF"
      },
      "outputs": [],
      "source": [
        "def preprocess_text(\n",
        "    text: str,\n",
        "    labels: list[str],\n",
        "    instructions: str,\n",
        "    separator: str,\n",
        ") -> str:\n",
        "  prompt = f'{instructions}:[{\",\".join(labels)}]'\n",
        "  return separator.join([prompt, f'Text:{text}', 'Prediction:'])"
      ]
    },
    {
      "cell_type": "markdown",
      "metadata": {
        "id": "qz63Rta4DC0u"
      },
      "source": [
        "Now, if you run the function using the same prompt and text as before, you\n",
        "should get the same output:"
      ]
    },
    {
      "cell_type": "code",
      "execution_count": null,
      "metadata": {
        "id": "_0VKIOjqEqv0"
      },
      "outputs": [
        {
          "name": "stdout",
          "output_type": "stream",
          "text": [
            "Classify the following text into one of the following classes:[Positive,Negative]\n",
            "<separator>\n",
            "Text:you look very nice today\n",
            "<separator>\n",
            "Prediction:\n"
          ]
        }
      ],
      "source": [
        "text = 'you look very nice today'\n",
        "\n",
        "prompt = preprocess_text(\n",
        "    text=text,\n",
        "    labels=['Positive', 'Negative'],\n",
        "    instructions='Classify the following text into one of the following classes',\n",
        "    separator='\\n<separator>\\n',\n",
        ")\n",
        "\n",
        "print(prompt)"
      ]
    },
    {
      "cell_type": "markdown",
      "metadata": {
        "id": "eS4XXfr_eW07"
      },
      "source": [
        "## Output Postprocessing\n",
        "\n",
        "The outputs of the model are tokens with various probabilities. Normally, to\n",
        "generate text, you would select among the top few most probable tokens and\n",
        "construct sentences, paragraphs or even full documents. However, for the purpose\n",
        "of classification, what actually matters is whether the model believes that\n",
        "`Positive` is more probable than `Negative` or vice versa.\n",
        "\n",
        "Given the model you instantiated earlier, this is how you can process its output\n",
        "into the independent probabilities of whether the next token is `Positive` or\n",
        "`Negative`, respectively:"
      ]
    },
    {
      "cell_type": "code",
      "execution_count": null,
      "metadata": {
        "id": "tfyaeeaoE5L0"
      },
      "outputs": [],
      "source": [
        "import numpy as np\n",
        "\n",
        "\n",
        "def compute_output_probability(\n",
        "    model: keras_nlp.models.GemmaCausalLM,\n",
        "    prompt: str,\n",
        "    target_classes: list[str],\n",
        ") -> dict[str, float]:\n",
        "  # Shorthands.\n",
        "  preprocessor = model.preprocessor\n",
        "  tokenizer = preprocessor.tokenizer\n",
        "\n",
        "  # NOTE: If a token is not found, it will be considered same as \"<unk>\".\n",
        "  token_unk = tokenizer.token_to_id('<unk>')\n",
        "\n",
        "  # Identify the token indices, which is the same as the ID for this tokenizer.\n",
        "  token_ids = [tokenizer.token_to_id(word) for word in target_classes]\n",
        "\n",
        "  # Throw an error if one of the classes maps to a token outside the vocabulary.\n",
        "  if any(token_id == token_unk for token_id in token_ids):\n",
        "    raise ValueError('One of the target classes is not in the vocabulary.')\n",
        "\n",
        "  # Preprocess the prompt in a single batch. This is done one sample at a time\n",
        "  # for illustration purposes, but it would be more efficient to batch prompts.\n",
        "  preprocessed = model.preprocessor.generate_preprocess([prompt])\n",
        "\n",
        "  # Identify output token offset.\n",
        "  padding_mask = preprocessed[\"padding_mask\"]\n",
        "  token_offset = keras.ops.sum(padding_mask) - 1\n",
        "\n",
        "  # Score outputs, extract only the next token's logits.\n",
        "  vocab_logits = model.score(\n",
        "      token_ids=preprocessed[\"token_ids\"],\n",
        "      padding_mask=padding_mask,\n",
        "  )[0][token_offset]\n",
        "\n",
        "  # Compute the relative probability of each of the requested tokens.\n",
        "  token_logits = [vocab_logits[ix] for ix in token_ids]\n",
        "  logits_tensor = keras.ops.convert_to_tensor(token_logits)\n",
        "  probabilities = keras.activations.softmax(logits_tensor)\n",
        "\n",
        "  return dict(zip(target_classes, probabilities.numpy()))"
      ]
    },
    {
      "cell_type": "markdown",
      "metadata": {
        "id": "czpwDJg9Kz1N"
      },
      "source": [
        "You can test that function by running it with a the prompt you created earlier:"
      ]
    },
    {
      "cell_type": "code",
      "execution_count": null,
      "metadata": {
        "id": "2cJ5R-jlK0ct"
      },
      "outputs": [
        {
          "data": {
            "text/plain": [
              "{'Positive': 0.99994016, 'Negative': 5.984089e-05}"
            ]
          },
          "execution_count": 13,
          "metadata": {},
          "output_type": "execute_result"
        }
      ],
      "source": [
        "compute_output_probability(\n",
        "    model=model,\n",
        "    prompt=prompt,\n",
        "    target_classes=['Positive', 'Negative'],\n",
        ")"
      ]
    },
    {
      "cell_type": "markdown",
      "metadata": {
        "id": "OMAkdNLCeZnL"
      },
      "source": [
        "## Wrapping it all as a Classifier\n",
        "\n",
        "For ease of use, you can wrap all of the functions you just created into a\n",
        "single sklearn-like classifier with easy to use and familiar functions like\n",
        "`predict()` and `predict_score()`."
      ]
    },
    {
      "cell_type": "code",
      "execution_count": null,
      "metadata": {
        "id": "e2Wyg8ziH-ls"
      },
      "outputs": [],
      "source": [
        "import dataclasses\n",
        "\n",
        "\n",
        "@dataclasses.dataclass(frozen=True)\n",
        "class AgileClassifier:\n",
        "  \"\"\"Agile classifier to be wrapped around a LLM.\"\"\"\n",
        "\n",
        "  # The classes whose probability will be predicted.\n",
        "  labels: tuple[str, ...]\n",
        "\n",
        "  # Provide default instructions and control tokens, can be overridden by user.\n",
        "  instructions: str = 'Classify the following text into one of the following classes'\n",
        "  separator_token: str = '<separator>'\n",
        "  end_of_text_token: str = '<eos>'\n",
        "\n",
        "  def encode_for_prediction(self, x_text: str) -> str:\n",
        "    return preprocess_text(\n",
        "        text=x_text,\n",
        "        labels=self.labels,\n",
        "        instructions=self.instructions,\n",
        "        separator=self.separator_token,\n",
        "    )\n",
        "\n",
        "  def encode_for_training(self, x_text: str, y: int) -> str:\n",
        "    return ''.join([\n",
        "        self.encode_for_prediction(x_text),\n",
        "        self.labels[y],\n",
        "        self.end_of_text_token,\n",
        "    ])\n",
        "\n",
        "  def predict_score(\n",
        "      self,\n",
        "      model: keras_nlp.models.GemmaCausalLM,\n",
        "      x_text: str,\n",
        "  ) -> list[float]:\n",
        "    prompt = self.encode_for_prediction(x_text)\n",
        "    token_probabilities = compute_output_probability(\n",
        "        model=model,\n",
        "        prompt=prompt,\n",
        "        target_classes=self.labels,\n",
        "    )\n",
        "    return [token_probabilities[token] for token in self.labels]\n",
        "\n",
        "  def predict(\n",
        "      self,\n",
        "      model: keras_nlp.models.GemmaCausalLM,\n",
        "      x_eval: str,\n",
        "  ) -> int:\n",
        "    return np.argmax(self.predict_score(model, x_eval))\n",
        "\n",
        "agile_classifier = AgileClassifier(labels=('Positive', 'Negative'))"
      ]
    },
    {
      "cell_type": "markdown",
      "metadata": {
        "id": "upc8lWNBefOK"
      },
      "source": [
        "## Model Fine-Tuning\n",
        "\n",
        "LoRA stands for Low-Rank Adaptation. It's a fine-tuning technique that can be\n",
        "used to efficiently fine-tune large language models. You can read more about it\n",
        "in the [*LoRA: Low-Rank Adaptation of Large Language Models* paper][paper-lora].\n",
        "\n",
        "The Keras implementation of Gemma provides a `enable_lora()` method that you can\n",
        "use for fine-tuning:\n",
        "\n",
        "[paper-lora]: https://arxiv.org/abs/2106.09685"
      ]
    },
    {
      "cell_type": "code",
      "execution_count": null,
      "metadata": {
        "id": "aswoSEU_Mcbn"
      },
      "outputs": [],
      "source": [
        "# Enable LoRA for the model and set the LoRA rank to 4.\n",
        "model.backbone.enable_lora(rank=4)"
      ]
    },
    {
      "cell_type": "markdown",
      "metadata": {
        "id": "xdiL7LYCZkfR"
      },
      "source": [
        "After enabling LoRA, you can start the fine-tuning process. This takes approximately 5 minutes per epoch on Colab:"
      ]
    },
    {
      "cell_type": "code",
      "execution_count": null,
      "metadata": {
        "id": "_tbUK1QSPD9O"
      },
      "outputs": [
        {
          "name": "stdout",
          "output_type": "stream",
          "text": [
            "Epoch 1/4\n",
            "\u001b[1m400/400\u001b[0m \u001b[32m━━━━━━━━━━━━━━━━━━━━\u001b[0m\u001b[37m\u001b[0m \u001b[1m354s\u001b[0m 703ms/step - loss: 1.1365 - sparse_categorical_accuracy: 0.5874\n",
            "Epoch 2/4\n",
            "\u001b[1m400/400\u001b[0m \u001b[32m━━━━━━━━━━━━━━━━━━━━\u001b[0m\u001b[37m\u001b[0m \u001b[1m338s\u001b[0m 716ms/step - loss: 0.7579 - sparse_categorical_accuracy: 0.6662\n",
            "Epoch 3/4\n",
            "\u001b[1m400/400\u001b[0m \u001b[32m━━━━━━━━━━━━━━━━━━━━\u001b[0m\u001b[37m\u001b[0m \u001b[1m324s\u001b[0m 721ms/step - loss: 0.6818 - sparse_categorical_accuracy: 0.6894\n",
            "Epoch 4/4\n",
            "\u001b[1m400/400\u001b[0m \u001b[32m━━━━━━━━━━━━━━━━━━━━\u001b[0m\u001b[37m\u001b[0m \u001b[1m323s\u001b[0m 725ms/step - loss: 0.5922 - sparse_categorical_accuracy: 0.7220\n"
          ]
        },
        {
          "data": {
            "text/plain": [
              "<keras.src.callbacks.history.History at 0x7eb7e369c490>"
            ]
          },
          "execution_count": 17,
          "metadata": {},
          "output_type": "execute_result"
        }
      ],
      "source": [
        "import tensorflow as tf\n",
        "\n",
        "# Create dataset with preprocessed text + labels.\n",
        "map_fn = lambda x: agile_classifier.encode_for_training(*x)\n",
        "x_train = list(map(map_fn, df_train[['comment', 'hateful']].values))\n",
        "ds_train = tf.data.Dataset.from_tensor_slices(x_train).batch(2)\n",
        "\n",
        "# Compile the model using the Adam optimizer and appropriate loss function.\n",
        "model.compile(\n",
        "    loss=keras.losses.SparseCategoricalCrossentropy(from_logits=True),\n",
        "    optimizer=keras.optimizers.Adam(learning_rate=0.0005),\n",
        "    weighted_metrics=[keras.metrics.SparseCategoricalAccuracy()],\n",
        ")\n",
        "\n",
        "# Begin training.\n",
        "model.fit(ds_train, epochs=4)"
      ]
    },
    {
      "cell_type": "markdown",
      "metadata": {
        "id": "4zmISk5qToPR"
      },
      "source": [
        "Training for more epochs will result in higher accuracy, until overfitting\n",
        "occurs."
      ]
    },
    {
      "cell_type": "markdown",
      "metadata": {
        "id": "whpoXgFEenh1"
      },
      "source": [
        "## Inspect the Results\n",
        "\n",
        "You can now inspect the output of the agile classifier you just trained. This\n",
        "code will output the predicted class score given a piece of text:"
      ]
    },
    {
      "cell_type": "code",
      "execution_count": null,
      "metadata": {
        "id": "0rkHY2YHT3Te"
      },
      "outputs": [
        {
          "data": {
            "text/plain": [
              "{'Positive': 0.99899644, 'Negative': 0.0010035498}"
            ]
          },
          "execution_count": 24,
          "metadata": {},
          "output_type": "execute_result"
        }
      ],
      "source": [
        "text = 'you look really nice today'\n",
        "scores = agile_classifier.predict_score(model, text)\n",
        "dict(zip(agile_classifier.labels, scores))"
      ]
    },
    {
      "cell_type": "markdown",
      "metadata": {
        "id": "myL9BXvzerP-"
      },
      "source": [
        "## Model Evaluation\n",
        "\n",
        "Finally, you'll evaluate the performance of our model using two common metrics,\n",
        "the [F1 score][f1-score] and the [AUC-ROC][auc-roc]. The F1 score captures false\n",
        "negative and false positive errors by evaluating the harmonic mean of the\n",
        "precision and recall at a certain classification threshold. The AUC-ROC on the\n",
        "other hand captures the tradeoff between the true positive rate and the false\n",
        "positive rate across a variety of thresholds and computes the area under this\n",
        "curve.\n",
        "\n",
        "[f1-score]: https://en.wikipedia.org/wiki/F-score\n",
        "[auc-roc]: https://developers.google.com/machine-learning/crash-course/classification/roc-and-auc"
      ]
    },
    {
      "cell_type": "code",
      "execution_count": null,
      "metadata": {
        "id": "n61v4Nx2Rwk0"
      },
      "outputs": [],
      "source": [
        "y_true = df_test['hateful'].values\n",
        "# Compute the scores (aka probabilities) for each of the labels.\n",
        "y_score = [agile_classifier.predict_score(model, x) for x in df_test['comment']]\n",
        "# The label with highest score is considered the predicted class.\n",
        "y_pred = np.argmax(y_score, axis=1)\n",
        "# Extract the probability of a comment being considered hateful.\n",
        "y_prob = [x[agile_classifier.labels.index('Negative')] for x in y_score]"
      ]
    },
    {
      "cell_type": "code",
      "execution_count": null,
      "metadata": {
        "id": "_IwZzmKNcYxh"
      },
      "outputs": [
        {
          "name": "stdout",
          "output_type": "stream",
          "text": [
            "F1: 0.84\n",
            "AUC-ROC: 0.88\n"
          ]
        }
      ],
      "source": [
        "from sklearn.metrics import f1_score, roc_auc_score\n",
        "\n",
        "print(f'F1: {f1_score(y_true, y_pred):.2f}')\n",
        "print(f'AUC-ROC: {roc_auc_score(y_true, y_prob):.2f}')"
      ]
    },
    {
      "cell_type": "markdown",
      "metadata": {
        "id": "UPl7gtCKbsSg"
      },
      "source": [
        "Another interesting way to evaluate model predictions are confusion matrices. A\n",
        "confusion matrix will visually depict the different kinds of prediction errors."
      ]
    },
    {
      "cell_type": "code",
      "execution_count": null,
      "metadata": {
        "id": "GpShnBJ0cbaN"
      },
      "outputs": [
        {
          "data": {
            "text/plain": [
              "<sklearn.metrics._plot.confusion_matrix.ConfusionMatrixDisplay at 0x7eb7e2d29ab0>"
            ]
          },
          "execution_count": 26,
          "metadata": {},
          "output_type": "execute_result"
        },
        {
          "data": {
            "image/png": "[encoded data removed]",
            "text/plain": [
              "<Figure size 640x480 with 2 Axes>"
            ]
          },
          "metadata": {},
          "output_type": "display_data"
        }
      ],
      "source": [
        "from sklearn.metrics import confusion_matrix, ConfusionMatrixDisplay\n",
        "\n",
        "cm = confusion_matrix(y_true, y_pred)\n",
        "ConfusionMatrixDisplay(\n",
        "    confusion_matrix=cm,\n",
        "    display_labels=agile_classifier.labels,\n",
        ").plot()"
      ]
    },
    {
      "cell_type": "markdown",
      "metadata": {
        "id": "fJF2tk0hbtU5"
      },
      "source": [
        "Finally, you can also look at the ROC curve to get a sense of potential\n",
        "prediction errors with using different scoring thresholds."
      ]
    },
    {
      "cell_type": "code",
      "execution_count": null,
      "metadata": {
        "id": "B7l8e49GceWY"
      },
      "outputs": [
        {
          "data": {
            "text/plain": [
              "<sklearn.metrics._plot.roc_curve.RocCurveDisplay at 0x7eb4d130ef20>"
            ]
          },
          "execution_count": 25,
          "metadata": {},
          "output_type": "execute_result"
        },
        {
          "data": {
            "image/png": "[encoded data removed]",
            "text/plain": [
              "<Figure size 640x480 with 1 Axes>"
            ]
          },
          "metadata": {},
          "output_type": "display_data"
        }
      ],
      "source": [
        "from sklearn.metrics import RocCurveDisplay, roc_curve\n",
        "\n",
        "fpr, tpr, _ = roc_curve(y_true, y_prob, pos_label=1)\n",
        "RocCurveDisplay(fpr=fpr, tpr=tpr).plot()"
      ]
    },
    {
      "cell_type": "markdown",
      "metadata": {
        "id": "fPAP2K3jgfGh"
      },
      "source": [
        "## Appendix\n",
        "\n",
        "We have done some basic exploration of the hyper-parameter space to help get a better sense of the relationship between the dataset size and the performance. See the following plot."
      ]
    },
    {
      "cell_type": "code",
      "execution_count": null,
      "metadata": {
        "id": "fMSDQtyTgeP0"
      },
      "outputs": [
        {
          "data": {
            "image/png": "[encoded data removed]",
            "text/plain": [
              "<Figure size 1400x400 with 2 Axes>"
            ]
          },
          "metadata": {
            "image/png": {
              "height": 282,
              "width": 836
            }
          },
          "output_type": "display_data"
        }
      ],
      "source": [
        "import matplotlib.pyplot as plt\n",
        "import pandas as pd\n",
        "import seaborn as sns\n",
        "\n",
        "sns.set_theme(style=\"whitegrid\")\n",
        "\n",
        "results_f1 = pd.DataFrame([\n",
        "    {'training_size': 800, 'epoch': 4, 'metric': 'f1', 'score': 0.84},\n",
        "    {'training_size': 800, 'epoch': 6, 'metric': 'f1', 'score': 0.83},\n",
        "    {'training_size': 800, 'epoch': 8, 'metric': 'f1', 'score': 0.83},\n",
        "    {'training_size': 800, 'epoch': 10, 'metric': 'f1', 'score': 0.84},\n",
        "    {'training_size': 400, 'epoch': 4, 'metric': 'f1', 'score': 0.77},\n",
        "    {'training_size': 400, 'epoch': 6, 'metric': 'f1', 'score': 0.80},\n",
        "    {'training_size': 400, 'epoch': 8, 'metric': 'f1', 'score': 0.80},\n",
        "    {'training_size': 400, 'epoch': 10,'metric': 'f1', 'score': 0.81},\n",
        "    {'training_size': 200, 'epoch': 4, 'metric': 'f1', 'score': 0.78},\n",
        "    {'training_size': 200, 'epoch': 6, 'metric': 'f1', 'score': 0.80},\n",
        "    {'training_size': 200, 'epoch': 8, 'metric': 'f1', 'score': 0.78},\n",
        "    {'training_size': 200, 'epoch': 10, 'metric': 'f1', 'score': 0.79},\n",
        "])\n",
        "\n",
        "results_roc_auc = pd.DataFrame([\n",
        "    {'training_size': 800, 'epoch': 4, 'metric': 'roc-auc', 'score': 0.88},\n",
        "    {'training_size': 800, 'epoch': 6, 'metric': 'roc-auc', 'score': 0.86},\n",
        "    {'training_size': 800, 'epoch': 8, 'metric': 'roc-auc', 'score': 0.84},\n",
        "    {'training_size': 800, 'epoch': 10, 'metric': 'roc-auc', 'score': 0.87},\n",
        "    {'training_size': 400, 'epoch': 4, 'metric': 'roc-auc', 'score': 0.83},\n",
        "    {'training_size': 400, 'epoch': 6, 'metric': 'roc-auc', 'score': 0.82},\n",
        "    {'training_size': 400, 'epoch': 8, 'metric': 'roc-auc', 'score': 0.82},\n",
        "    {'training_size': 400, 'epoch': 10,'metric': 'roc-auc', 'score': 0.85},\n",
        "    {'training_size': 200, 'epoch': 4, 'metric': 'roc-auc', 'score': 0.79},\n",
        "    {'training_size': 200, 'epoch': 6, 'metric': 'roc-auc', 'score': 0.78},\n",
        "    {'training_size': 200, 'epoch': 8, 'metric': 'roc-auc', 'score': 0.80},\n",
        "    {'training_size': 200, 'epoch': 10, 'metric': 'roc-auc', 'score': 0.81},\n",
        "])\n",
        "\n",
        "\n",
        "plot_opts = dict(style='.-', ylim=(0.7, 0.9))\n",
        "fig, (ax1, ax2) = plt.subplots(1, 2, figsize=(14, 4))\n",
        "process_results_df = lambda df: df.set_index('epoch').groupby('training_size')['score']\n",
        "process_results_df(results_f1).plot(title='Metric: F1', ax=ax1, **plot_opts)\n",
        "process_results_df(results_roc_auc).plot(title='Metric: ROC-AUC', ax=ax2, **plot_opts)\n",
        "fig.show()"
      ]
    }
  ],
  "metadata": {
    "colab": {
      "name": "agile_classifiers.ipynb",
      "toc_visible": true
    },
    "kernelspec": {
      "display_name": "Python 3",
      "name": "python3"
    }
  },
  "nbformat": 4,
  "nbformat_minor": 0
}
