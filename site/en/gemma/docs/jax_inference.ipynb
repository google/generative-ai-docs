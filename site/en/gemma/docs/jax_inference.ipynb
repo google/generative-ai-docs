{
  "cells": [
    {
      "cell_type": "markdown",
      "metadata": {
        "id": "G3MMAcssHTML"
      },
      "source": [
        "<link rel=\"stylesheet\" href=\"/site-assets/css/gemma.css\">\n",
        "<link rel=\"stylesheet\" href=\"https://fonts.googleapis.com/css2?family=Google+Symbols:opsz,wght,FILL,GRAD@20..48,100..700,0..1,-50..200\" />"
      ]
    },
    {
      "cell_type": "markdown",
      "metadata": {
        "id": "Tce3stUlHN0L"
      },
      "source": [
        "##### Copyright 2024 Google LLC."
      ]
    },
    {
      "cell_type": "code",
      "execution_count": null,
      "metadata": {
        "cellView": "form",
        "id": "tuOe1ymfHZPu"
      },
      "outputs": [],
      "source": [
        "#@title Licensed under the Apache License, Version 2.0 (the \"License\");\n",
        "# you may not use this file except in compliance with the License.\n",
        "# You may obtain a copy of the License at\n",
        "#\n",
        "# https://www.apache.org/licenses/LICENSE-2.0\n",
        "#\n",
        "# Unless required by applicable law or agreed to in writing, software\n",
        "# distributed under the License is distributed on an \"AS IS\" BASIS,\n",
        "# WITHOUT WARRANTIES OR CONDITIONS OF ANY KIND, either express or implied.\n",
        "# See the License for the specific language governing permissions and\n",
        "# limitations under the License."
      ]
    },
    {
      "cell_type": "markdown",
      "metadata": {
        "id": "FUOiKRSF7jc1"
      },
      "source": [
        "# Inference with Gemma using JAX and Flax"
      ]
    },
    {
      "cell_type": "markdown",
      "metadata": {
        "id": "60KmTK7o6ppd"
      },
      "source": [
        "<table class=\"tfo-notebook-buttons\" align=\"left\">\n",
        "  <td>\n",
        "    <a target=\"_blank\" href=\"https://ai.google.dev/gemma/docs/jax_inference\"><img src=\"https://ai.google.dev/static/site-assets/images/docs/notebook-site-button.png\" height=\"32\" width=\"32\" />View on ai.google.dev</a>\n",
        "  </td>\n",
        "  <td>\n",
        "    <a target=\"_blank\" href=\"https://colab.research.google.com/github/google/generative-ai-docs/blob/main/site/en/gemma/docs/jax_inference.ipynb\"><img src=\"https://www.tensorflow.org/images/colab_logo_32px.png\" />Run in Google Colab</a>\n",
        "  </td>\n",
        "  <td>\n",
        "    <a target=\"_blank\" href=\"https://console.cloud.google.com/vertex-ai/workbench/deploy-notebook?download_url=https://raw.githubusercontent.com/google/generative-ai-docs/main/site/en/gemma/docs/jax_inference.ipynb\"><img src=\"https://ai.google.dev/images/cloud-icon.svg\" width=\"40\" />Open in Vertex AI</a>\n",
        "  </td>\n",
        "  <td>\n",
        "    <a target=\"_blank\" href=\"https://github.com/google/generative-ai-docs/blob/main/site/en/gemma/docs/jax_inference.ipynb\"><img src=\"https://www.tensorflow.org/images/GitHub-Mark-32px.png\" />View source on GitHub</a>\n",
        "  </td>\n",
        "</table>"
      ]
    },
    {
      "cell_type": "markdown",
      "metadata": {
        "id": "Tdlq6K0znh3O"
      },
      "source": [
        "## Overview\n",
        "\n",
        "Gemma is a family of lightweight, state-of-the-art open large language models, based on the Google DeepMind Gemini research and technology. This tutorial demonstrates how to perform basic sampling/inference with the Gemma 2B Instruct model using [Google DeepMind's `gemma` library](https://github.com/google-deepmind/gemma) that was written with [JAX](https://jax.readthedocs.io) (a high-performance numerical computing library), [Flax](https://flax.readthedocs.io) (the JAX-based neural network library), [Orbax](https://orbax.readthedocs.io/) (a JAX-based library for training utilities like checkpointing), and [SentencePiece](https://github.com/google/sentencepiece) (a tokenizer/detokenizer library). Although Flax is not used directly in this notebook, Flax was used to create Gemma.\n",
        "\n",
        "This notebook can run on Google Colab with free T4 GPU (go to **Edit** > **Notebook settings** > Under **Hardware accelerator** select **T4 GPU**)."
      ]
    },
    {
      "cell_type": "markdown",
      "metadata": {
        "id": "aKvTsIkL98BG"
      },
      "source": [
        "## Setup"
      ]
    },
    {
      "cell_type": "markdown",
      "metadata": {
        "id": "WCgCkmQSPxkE"
      },
      "source": [
        "### 1. Set up Kaggle access for Gemma\n",
        "\n",
        "To complete this tutorial, you first need to follow the setup instructions at [Gemma setup](https://ai.google.dev/gemma/docs/setup), which show you how to do the following:\n",
        "\n",
        "* Get access to Gemma on [kaggle.com](https://www.kaggle.com/models/google/gemma/).\n",
        "* Select a Colab runtime with sufficient resources to run the Gemma model.\n",
        "* Generate and configure a Kaggle username and API key.\n",
        "\n",
        "After you've completed the Gemma setup, move on to the next section, where you'll set environment variables for your Colab environment.\n",
        "\n",
        "### 2. Set environment variables\n",
        "\n",
        "Set environment variables for `KAGGLE_USERNAME` and `KAGGLE_KEY`. When prompted with the \"Grant access?\" messages, agree to provide secret access."
      ]
    },
    {
      "cell_type": "code",
      "execution_count": null,
      "metadata": {
        "id": "lKoW-nhE-gNO"
      },
      "outputs": [],
      "source": [
        "import os\n",
        "from google.colab import userdata # `userdata` is a Colab API.\n",
        "\n",
        "os.environ[\"KAGGLE_USERNAME\"] = userdata.get('KAGGLE_USERNAME')\n",
        "os.environ[\"KAGGLE_KEY\"] = userdata.get('KAGGLE_KEY')"
      ]
    },
    {
      "cell_type": "markdown",
      "metadata": {
        "id": "AO7a1Q4Yyc9Z"
      },
      "source": [
        "### 3. Install the `gemma` library\n",
        "\n",
        "This notebook focuses on using a free Colab GPU. To enable hardware acceleration, click on **Edit** > **Notebook settings** > Select **T4 GPU** > **Save**.\n",
        "\n",
        "Next, you need to install the Google DeepMind `gemma` library from [`github.com/google-deepmind/gemma`](https://github.com/google-deepmind/gemma). If you get an error about \"pip's dependency resolver\", you can usually ignore it.\n",
        "\n",
        "**Note:** By installing `gemma`, you will also install [`flax`](https://flax.readthedocs.io), core [`jax`](https://jax.readthedocs.io), [`optax`](https://optax.readthedocs.io/en/latest/) (the JAX-based gradient processing and optimization library), [`orbax`](https://orbax.readthedocs.io/), and [`sentencepiece`](https://github.com/google/sentencepiece)."
      ]
    },
    {
      "cell_type": "code",
      "execution_count": null,
      "metadata": {
        "id": "WWEzVJR4Fx9g"
      },
      "outputs": [
        {
          "name": "stdout",
          "output_type": "stream",
          "text": [
            "  Installing build dependencies ... \u001b[?25l\u001b[?25hdone\n",
            "  Getting requirements to build wheel ... \u001b[?25l\u001b[?25hdone\n",
            "  Preparing metadata (pyproject.toml) ... \u001b[?25l\u001b[?25hdone\n",
            "\u001b[2K   \u001b[90m━━━━━━━━━━━━━━━━━━━━━━━━━━━━━━━━━━━━━━━━\u001b[0m \u001b[32m133.7/133.7 kB\u001b[0m \u001b[31m11.6 MB/s\u001b[0m eta \u001b[36m0:00:00\u001b[0m\n",
            "\u001b[?25h  Building wheel for gemma (pyproject.toml) ... \u001b[?25l\u001b[?25hdone\n"
          ]
        }
      ],
      "source": [
        "!pip install -q git+https://github.com/google-deepmind/gemma.git"
      ]
    },
    {
      "cell_type": "markdown",
      "metadata": {
        "id": "VKLjBAe1m3Ck"
      },
      "source": [
        "## Load and prepare the Gemma model\n",
        "\n",
        "1. Load the Gemma model with [`kagglehub.model_download`](https://github.com/Kaggle/kagglehub/blob/bddefc718182282882b72f814d407d89e5d178c4/src/kagglehub/models.py#L12), which takes three arguments:\n",
        "\n",
        "- `handle`: The model handle from Kaggle\n",
        "- `path`: (Optional string) The local path\n",
        "- `force_download`: (Optional boolean) Forces to re-download the model\n",
        "\n",
        "**Note:** Be mindful that the `gemma-2b-it` model is around 3.7Gb in size."
      ]
    },
    {
      "cell_type": "code",
      "execution_count": null,
      "metadata": {
        "id": "_W3FUd9lt8VT"
      },
      "outputs": [],
      "source": [
        "GEMMA_VARIANT = 'gemma2-2b-it' # @param ['gemma2-2b', 'gemma2-2b-it'] {type:\"string\"}"
      ]
    },
    {
      "cell_type": "code",
      "execution_count": null,
      "metadata": {
        "id": "kFCmWEKdMA_Y"
      },
      "outputs": [
        {
          "data": {
            "application/vnd.jupyter.widget-view+json": {
              "model_id": "c5feb22ec5674243b90733e2ffb4c34c",
              "version_major": 2,
              "version_minor": 0
            },
            "text/plain": [
              "Downloading 11 files:   0%|          | 0/11 [00:00<?, ?it/s]"
            ]
          },
          "metadata": {},
          "output_type": "display_data"
        },
        {
          "name": "stdout",
          "output_type": "stream",
          "text": [
            "Downloading from https://www.kaggle.com/api/v1/models/google/gemma-2-2b/flax/gemma2-2b-it/1/download/gemma2-2b-it/ocdbt.process_0/manifest.ocdbt...\n"
          ]
        },
        {
          "name": "stderr",
          "output_type": "stream",
          "text": [
            "\n",
            "100%|██████████| 180/180 [00:00<00:00, 101kB/s]"
          ]
        },
        {
          "name": "stdout",
          "output_type": "stream",
          "text": [
            "Downloading from https://www.kaggle.com/api/v1/models/google/gemma-2-2b/flax/gemma2-2b-it/1/download/gemma2-2b-it/d/b5a4695f4be0a2f41ec1e25616ebd7e7...\n"
          ]
        },
        {
          "name": "stderr",
          "output_type": "stream",
          "text": [
            "\n",
            "\n",
            "100%|██████████| 2.66k/2.66k [00:00<00:00, 5.36MB/s]\n"
          ]
        },
        {
          "name": "stdout",
          "output_type": "stream",
          "text": [
            "Downloading from https://www.kaggle.com/api/v1/models/google/gemma-2-2b/flax/gemma2-2b-it/1/download/gemma2-2b-it/descriptor/descriptor.pbtxt...\n"
          ]
        },
        {
          "name": "stderr",
          "output_type": "stream",
          "text": [
            "\n",
            "100%|██████████| 45.0/45.0 [00:00<00:00, 90.0kB/s]\n"
          ]
        },
        {
          "name": "stdout",
          "output_type": "stream",
          "text": [
            "Downloading from https://www.kaggle.com/api/v1/models/google/gemma-2-2b/flax/gemma2-2b-it/1/download/gemma2-2b-it/_METADATA...\n"
          ]
        },
        {
          "name": "stderr",
          "output_type": "stream",
          "text": [
            "\n",
            "100%|██████████| 55.3k/55.3k [00:00<00:00, 29.5MB/s]"
          ]
        },
        {
          "name": "stdout",
          "output_type": "stream",
          "text": [
            "Downloading from https://www.kaggle.com/api/v1/models/google/gemma-2-2b/flax/gemma2-2b-it/1/download/gemma2-2b-it/_CHECKPOINT_METADATA...\n"
          ]
        },
        {
          "name": "stderr",
          "output_type": "stream",
          "text": [
            "\n",
            "\n",
            "100%|██████████| 92.0/92.0 [00:00<00:00, 234kB/s]"
          ]
        },
        {
          "name": "stdout",
          "output_type": "stream",
          "text": [
            "Downloading from https://www.kaggle.com/api/v1/models/google/gemma-2-2b/flax/gemma2-2b-it/1/download/gemma2-2b-it/ocdbt.process_0/d/bf69258061ae5f35eb7a5669fe6877d4...\n"
          ]
        },
        {
          "name": "stderr",
          "output_type": "stream",
          "text": [
            "\n",
            "\n",
            "  0%|          | 0.00/2.12G [00:00<?, ?B/s]\u001b[A"
          ]
        },
        {
          "name": "stdout",
          "output_type": "stream",
          "text": [
            "Downloading from https://www.kaggle.com/api/v1/models/google/gemma-2-2b/flax/gemma2-2b-it/1/download/gemma2-2b-it/ocdbt.process_0/d/fc20151969d7ca91ea9d8275bda0e219...\n"
          ]
        },
        {
          "name": "stderr",
          "output_type": "stream",
          "text": [
            "\n",
            "\n",
            "100%|██████████| 2.64k/2.64k [00:00<00:00, 5.58MB/s]\n",
            "\n",
            "  0%|          | 2.00M/2.12G [00:00<01:48, 20.8MB/s]\u001b[A"
          ]
        },
        {
          "name": "stdout",
          "output_type": "stream",
          "text": [
            "Downloading from https://www.kaggle.com/api/v1/models/google/gemma-2-2b/flax/gemma2-2b-it/1/download/gemma2-2b-it/ocdbt.process_0/d/834bb4bf1e3854eb09f6208c95c071b2...\n"
          ]
        },
        {
          "name": "stderr",
          "output_type": "stream",
          "text": [
            "\n",
            "\n",
            "  0%|          | 0.00/1.70G [00:00<?, ?B/s]\u001b[A\u001b[A\n",
            "  0%|          | 9.00M/2.12G [00:00<00:46, 48.2MB/s]\u001b[A\n",
            "\n",
            "  0%|          | 3.00M/1.70G [00:00<01:06, 27.6MB/s]\u001b[A\u001b[A\n",
            "  1%|          | 14.0M/2.12G [00:00<00:46, 48.6MB/s]\u001b[A\n",
            "\n",
            "  1%|          | 9.00M/1.70G [00:00<00:40, 44.5MB/s]\u001b[A\u001b[A"
          ]
        },
        {
          "name": "stdout",
          "output_type": "stream",
          "text": [
            "Downloading from https://www.kaggle.com/api/v1/models/google/gemma-2-2b/flax/gemma2-2b-it/1/download/gemma2-2b-it/manifest.ocdbt...\n"
          ]
        },
        {
          "name": "stderr",
          "output_type": "stream",
          "text": [
            "\n",
            "\n",
            "\n",
            "100%|██████████| 118/118 [00:00<00:00, 303kB/s]\n",
            "\n",
            "  1%|          | 21.0M/2.12G [00:00<00:41, 53.7MB/s]\u001b[A"
          ]
        },
        {
          "name": "stdout",
          "output_type": "stream",
          "text": [
            "Downloading from https://www.kaggle.com/api/v1/models/google/gemma-2-2b/flax/gemma2-2b-it/1/download/gemma2-2b-it/checkpoint...\n"
          ]
        },
        {
          "name": "stderr",
          "output_type": "stream",
          "text": [
            "\n",
            "\n",
            "\n",
            "  0%|          | 0.00/22.5k [00:00<?, ?B/s]\u001b[A\u001b[A\u001b[A"
          ]
        },
        {
          "name": "stdout",
          "output_type": "stream",
          "text": [
            "Downloading from https://www.kaggle.com/api/v1/models/google/gemma-2-2b/flax/gemma2-2b-it/1/download/tokenizer.model...\n"
          ]
        },
        {
          "name": "stderr",
          "output_type": "stream",
          "text": [
            "\r",
            "100%|██████████| 22.5k/22.5k [00:00<00:00, 24.7MB/s]\n",
            "\n",
            "\n",
            "  1%|          | 17.0M/1.70G [00:00<00:36, 49.5MB/s]\u001b[A\u001b[A\n",
            "\n",
            "\n",
            "  0%|          | 0.00/4.04M [00:00<?, ?B/s]\u001b[A\u001b[A\u001b[A\n",
            "100%|██████████| 4.04M/4.04M [00:00<00:00, 64.6MB/s]\n",
            "\n",
            "\n",
            "  1%|▏         | 24.0M/1.70G [00:00<00:34, 52.7MB/s]\u001b[A\u001b[A\n",
            "  2%|▏         | 40.0M/2.12G [00:00<00:34, 64.6MB/s]\u001b[A\n",
            "\n",
            "  2%|▏         | 33.0M/1.70G [00:00<00:27, 64.4MB/s]\u001b[A\u001b[A\n",
            "  2%|▏         | 49.0M/2.12G [00:00<00:34, 64.8MB/s]\u001b[A\n",
            "\n",
            "  3%|▎         | 47.0M/1.70G [00:00<00:20, 86.9MB/s]\u001b[A\u001b[A\n",
            "  3%|▎         | 59.0M/2.12G [00:00<00:29, 74.4MB/s]\u001b[A\n",
            "\n",
            "  3%|▎         | 56.0M/1.70G [00:00<00:24, 73.1MB/s]\u001b[A\u001b[A\n",
            "  3%|▎         | 67.0M/2.12G [00:01<00:31, 70.1MB/s]\u001b[A\n",
            "\n",
            "  4%|▎         | 64.0M/1.70G [00:01<00:25, 69.4MB/s]\u001b[A\u001b[A\n",
            "  3%|▎         | 74.0M/2.12G [00:01<00:32, 67.4MB/s]\u001b[A\n",
            "\n",
            "  4%|▍         | 73.0M/1.70G [00:01<00:23, 75.7MB/s]\u001b[A\u001b[A\n",
            "  4%|▍         | 84.0M/2.12G [00:01<00:28, 75.5MB/s]\u001b[A\n",
            "\n",
            "  5%|▍         | 81.0M/1.70G [00:01<00:22, 77.7MB/s]\u001b[A\u001b[A\n",
            "\n",
            "  5%|▌         | 95.0M/1.70G [00:01<00:17, 96.5MB/s]\u001b[A\u001b[A\n",
            "  4%|▍         | 92.0M/2.12G [00:01<00:38, 56.7MB/s]\u001b[A\n",
            "\n",
            "  6%|▌         | 106M/1.70G [00:01<00:17, 101MB/s]  \u001b[A\u001b[A\n",
            "  5%|▍         | 102M/2.12G [00:01<00:32, 67.2MB/s] \u001b[A\n",
            "\n",
            "  7%|▋         | 117M/1.70G [00:01<00:16, 102MB/s]\u001b[A\u001b[A\n",
            "  5%|▌         | 110M/2.12G [00:01<00:30, 70.5MB/s]\u001b[A\n",
            "\n",
            "  7%|▋         | 128M/1.70G [00:01<00:16, 105MB/s]\u001b[A\u001b[A\n",
            "  5%|▌         | 119M/2.12G [00:01<00:28, 75.6MB/s]\u001b[A\n",
            "\n",
            "  8%|▊         | 142M/1.70G [00:01<00:14, 117MB/s]\u001b[A\u001b[A\n",
            "  6%|▌         | 129M/2.12G [00:02<00:30, 70.1MB/s]\u001b[A\n",
            "\n",
            "  9%|▉         | 154M/1.70G [00:01<00:17, 92.5MB/s]\u001b[A\u001b[A\n",
            "  6%|▋         | 138M/2.12G [00:02<00:28, 73.9MB/s]\u001b[A\n",
            "\n",
            "  9%|▉         | 164M/1.70G [00:02<00:18, 87.7MB/s]\u001b[A\u001b[A\n",
            "  7%|▋         | 146M/2.12G [00:02<00:30, 70.2MB/s]\u001b[A\n",
            "\n",
            " 10%|▉         | 173M/1.70G [00:02<00:20, 81.7MB/s]\u001b[A\u001b[A\n",
            "  7%|▋         | 153M/2.12G [00:02<00:33, 63.0MB/s]\u001b[A\n",
            "\n",
            " 10%|█         | 182M/1.70G [00:02<00:19, 82.8MB/s]\u001b[A\u001b[A\n",
            "  8%|▊         | 164M/2.12G [00:02<00:27, 75.3MB/s]\u001b[A\n",
            "\n",
            " 11%|█         | 195M/1.70G [00:02<00:17, 90.8MB/s]\u001b[A\u001b[A\n",
            "  8%|▊         | 174M/2.12G [00:02<00:25, 82.0MB/s]\u001b[A\n",
            "\n",
            " 12%|█▏        | 207M/1.70G [00:02<00:16, 99.0MB/s]\u001b[A\u001b[A\n",
            "  9%|▊         | 186M/2.12G [00:02<00:22, 92.9MB/s]\u001b[A\n",
            "\n",
            " 13%|█▎        | 218M/1.70G [00:02<00:16, 99.7MB/s]\u001b[A\u001b[A\n",
            "  9%|▉         | 196M/2.12G [00:02<00:22, 92.4MB/s]\u001b[A\n",
            "\n",
            " 13%|█▎        | 229M/1.70G [00:02<00:15, 103MB/s] \u001b[A\u001b[A\n",
            " 10%|▉         | 206M/2.12G [00:02<00:22, 92.1MB/s]\u001b[A\n",
            "\n",
            " 14%|█▎        | 239M/1.70G [00:02<00:15, 99.4MB/s]\u001b[A\u001b[A\n",
            " 10%|▉         | 215M/2.12G [00:03<00:22, 91.3MB/s]\u001b[A\n",
            "\n",
            " 14%|█▍        | 250M/1.70G [00:03<00:15, 101MB/s] \u001b[A\u001b[A\n",
            " 10%|█         | 226M/2.12G [00:03<00:21, 96.5MB/s]\u001b[A\n",
            "\n",
            " 15%|█▌        | 263M/1.70G [00:03<00:14, 108MB/s]\u001b[A\u001b[A\n",
            " 11%|█         | 238M/2.12G [00:03<00:19, 105MB/s] \u001b[A\n",
            " 11%|█▏        | 249M/2.12G [00:03<00:19, 103MB/s]\u001b[A\n",
            "\n",
            " 16%|█▌        | 274M/1.70G [00:03<00:16, 91.6MB/s]\u001b[A\u001b[A\n",
            " 12%|█▏        | 259M/2.12G [00:03<00:21, 93.3MB/s]\u001b[A\n",
            "\n",
            " 16%|█▋        | 284M/1.70G [00:03<00:20, 76.0MB/s]\u001b[A\u001b[A\n",
            " 12%|█▏        | 269M/2.12G [00:03<00:21, 94.3MB/s]\u001b[A\n",
            "\n",
            " 17%|█▋        | 295M/1.70G [00:03<00:18, 84.0MB/s]\u001b[A\u001b[A\n",
            " 13%|█▎        | 279M/2.12G [00:03<00:20, 94.2MB/s]\u001b[A\n",
            "\n",
            " 17%|█▋        | 304M/1.70G [00:03<00:17, 84.4MB/s]\u001b[A\u001b[A\n",
            " 13%|█▎        | 289M/2.12G [00:03<00:20, 94.9MB/s]\u001b[A\n",
            "\n",
            " 18%|█▊        | 313M/1.70G [00:03<00:18, 81.9MB/s]\u001b[A\u001b[A\n",
            " 14%|█▍        | 299M/2.12G [00:03<00:21, 91.4MB/s]\u001b[A\n",
            " 14%|█▍        | 308M/2.12G [00:04<00:21, 89.4MB/s]\u001b[A\n",
            "\n",
            " 18%|█▊        | 322M/1.70G [00:03<00:20, 73.5MB/s]\u001b[A\u001b[A\n",
            "\n",
            " 19%|█▉        | 330M/1.70G [00:04<00:19, 74.9MB/s]\u001b[A\u001b[A\n",
            " 15%|█▍        | 317M/2.12G [00:04<00:23, 81.1MB/s]\u001b[A\n",
            " 15%|█▌        | 326M/2.12G [00:04<00:23, 83.6MB/s]\u001b[A\n",
            "\n",
            " 19%|█▉        | 338M/1.70G [00:04<00:20, 72.0MB/s]\u001b[A\u001b[A\n",
            "\n",
            " 20%|█▉        | 346M/1.70G [00:04<00:19, 74.6MB/s]\u001b[A\u001b[A\n",
            " 15%|█▌        | 335M/2.12G [00:04<00:24, 79.2MB/s]\u001b[A\n",
            "\n",
            " 20%|██        | 354M/1.70G [00:04<00:19, 75.0MB/s]\u001b[A\u001b[A\n",
            " 16%|█▌        | 344M/2.12G [00:04<00:23, 81.4MB/s]\u001b[A\n",
            " 16%|█▋        | 352M/2.12G [00:04<00:28, 67.3MB/s]\u001b[A\n",
            "\n",
            " 21%|██        | 362M/1.70G [00:04<00:26, 54.3MB/s]\u001b[A\u001b[A\n",
            " 17%|█▋        | 359M/2.12G [00:04<00:31, 59.6MB/s]\u001b[A\n",
            "\n",
            " 21%|██        | 369M/1.70G [00:04<00:26, 53.4MB/s]\u001b[A\u001b[A\n",
            " 17%|█▋        | 366M/2.12G [00:05<00:31, 59.0MB/s]\u001b[A\n",
            "\n",
            " 22%|██▏       | 375M/1.70G [00:04<00:26, 54.9MB/s]\u001b[A\u001b[A\n",
            " 17%|█▋        | 372M/2.12G [00:05<00:31, 59.2MB/s]\u001b[A\n",
            "\n",
            " 22%|██▏       | 381M/1.70G [00:05<00:25, 56.2MB/s]\u001b[A\u001b[A\n",
            " 17%|█▋        | 379M/2.12G [00:05<00:30, 62.3MB/s]\u001b[A\n",
            "\n",
            " 22%|██▏       | 388M/1.70G [00:05<00:24, 56.8MB/s]\u001b[A\u001b[A\n",
            " 18%|█▊        | 386M/2.12G [00:05<00:29, 63.8MB/s]\u001b[A\n",
            "\n",
            " 23%|██▎       | 395M/1.70G [00:05<00:23, 60.2MB/s]\u001b[A\u001b[A\n",
            " 18%|█▊        | 394M/2.12G [00:05<00:27, 68.5MB/s]\u001b[A\n",
            "\n",
            " 23%|██▎       | 402M/1.70G [00:05<00:22, 62.7MB/s]\u001b[A\u001b[A\n",
            " 19%|█▊        | 401M/2.12G [00:05<00:27, 66.3MB/s]\u001b[A\n",
            "\n",
            " 23%|██▎       | 409M/1.70G [00:05<00:21, 64.4MB/s]\u001b[A\u001b[A\n",
            " 19%|█▉        | 408M/2.12G [00:05<00:28, 65.4MB/s]\u001b[A\n",
            "\n",
            " 24%|██▍       | 416M/1.70G [00:05<00:21, 65.4MB/s]\u001b[A\u001b[A\n",
            "\n",
            " 24%|██▍       | 423M/1.70G [00:05<00:26, 51.4MB/s]\u001b[A\u001b[A\n",
            " 19%|█▉        | 415M/2.12G [00:07<03:02, 10.1MB/s]\u001b[A\n",
            "\n",
            " 25%|██▍       | 429M/1.70G [00:08<02:56, 7.79MB/s]\u001b[A\u001b[A\n",
            " 19%|█▉        | 420M/2.12G [00:08<03:17, 9.28MB/s]\u001b[A\n",
            "\n",
            " 25%|██▌       | 439M/1.70G [00:08<01:52, 12.2MB/s]\u001b[A\u001b[A\n",
            " 20%|█▉        | 432M/2.12G [00:08<01:56, 15.7MB/s]\u001b[A\n",
            "\n",
            " 26%|██▌       | 447M/1.70G [00:08<01:22, 16.5MB/s]\u001b[A\u001b[A\n",
            " 20%|██        | 441M/2.12G [00:08<01:25, 21.1MB/s]\u001b[A\n",
            "\n",
            " 26%|██▌       | 454M/1.70G [00:08<01:05, 20.5MB/s]\u001b[A\u001b[A\n",
            " 21%|██        | 448M/2.12G [00:09<01:14, 24.0MB/s]\u001b[A\n",
            "\n",
            " 26%|██▋       | 460M/1.70G [00:08<00:54, 24.4MB/s]\u001b[A\u001b[A\n",
            "\n",
            " 27%|██▋       | 468M/1.70G [00:09<00:42, 31.6MB/s]\u001b[A\u001b[A\n",
            " 21%|██        | 454M/2.12G [00:09<01:07, 26.4MB/s]\u001b[A\n",
            " 21%|██▏       | 464M/2.12G [00:09<00:49, 36.4MB/s]\u001b[A\n",
            "\n",
            " 27%|██▋       | 476M/1.70G [00:09<00:38, 34.4MB/s]\u001b[A\u001b[A\n",
            "\n",
            " 28%|██▊       | 487M/1.70G [00:09<00:28, 47.0MB/s]\u001b[A\u001b[A\n",
            " 22%|██▏       | 471M/2.12G [00:09<00:53, 33.2MB/s]\u001b[A\n",
            "\n",
            " 28%|██▊       | 495M/1.70G [00:09<00:28, 46.0MB/s]\u001b[A\u001b[A\n",
            " 22%|██▏       | 477M/2.12G [00:09<00:49, 36.0MB/s]\u001b[A\n",
            "\n",
            " 29%|██▉       | 502M/1.70G [00:09<00:27, 47.6MB/s]\u001b[A\u001b[A\n",
            "\n",
            " 29%|██▉       | 510M/1.70G [00:09<00:23, 54.1MB/s]\u001b[A\u001b[A\n",
            " 22%|██▏       | 483M/2.12G [00:09<00:52, 33.9MB/s]\u001b[A\n",
            "\n",
            " 30%|██▉       | 519M/1.70G [00:09<00:20, 62.0MB/s]\u001b[A\u001b[A\n",
            " 23%|██▎       | 491M/2.12G [00:10<00:41, 41.9MB/s]\u001b[A\n",
            "\n",
            " 30%|███       | 527M/1.70G [00:09<00:19, 65.6MB/s]\u001b[A\u001b[A\n",
            " 23%|██▎       | 497M/2.12G [00:10<00:47, 37.1MB/s]\u001b[A\n",
            " 23%|██▎       | 506M/2.12G [00:10<00:36, 47.1MB/s]\u001b[A\n",
            "\n",
            " 31%|███       | 535M/1.70G [00:10<00:26, 47.1MB/s]\u001b[A\u001b[A\n",
            " 24%|██▎       | 513M/2.12G [00:10<00:35, 49.5MB/s]\u001b[A\n",
            "\n",
            " 31%|███       | 541M/1.70G [00:10<00:25, 49.2MB/s]\u001b[A\u001b[A\n",
            " 24%|██▍       | 523M/2.12G [00:10<00:28, 60.8MB/s]\u001b[A\n",
            "\n",
            " 32%|███▏      | 551M/1.70G [00:10<00:20, 60.3MB/s]\u001b[A\u001b[A\n",
            " 24%|██▍       | 530M/2.12G [00:10<00:30, 56.8MB/s]\u001b[A\n",
            "\n",
            " 32%|███▏      | 561M/1.70G [00:10<00:18, 65.7MB/s]\u001b[A\u001b[A\n",
            " 25%|██▍       | 537M/2.12G [00:10<00:29, 58.3MB/s]\u001b[A\n",
            "\n",
            " 33%|███▎      | 569M/1.70G [00:10<00:18, 67.2MB/s]\u001b[A\u001b[A\n",
            " 25%|██▌       | 547M/2.12G [00:10<00:24, 68.2MB/s]\u001b[A\n",
            "\n",
            " 33%|███▎      | 578M/1.70G [00:10<00:16, 73.2MB/s]\u001b[A\u001b[A\n",
            " 26%|██▌       | 557M/2.12G [00:11<00:21, 77.0MB/s]\u001b[A\n",
            "\n",
            " 34%|███▎      | 586M/1.70G [00:10<00:17, 71.0MB/s]\u001b[A\u001b[A\n",
            "\n",
            " 34%|███▍      | 595M/1.70G [00:11<00:15, 76.1MB/s]\u001b[A\u001b[A\n",
            " 26%|██▌       | 565M/2.12G [00:11<00:24, 69.2MB/s]\u001b[A\n",
            "\n",
            " 35%|███▍      | 609M/1.70G [00:11<00:13, 88.9MB/s]\u001b[A\u001b[A\n",
            " 26%|██▋       | 573M/2.12G [00:11<00:26, 63.3MB/s]\u001b[A\n",
            "\n",
            " 35%|███▌      | 618M/1.70G [00:11<00:13, 90.0MB/s]\u001b[A\u001b[A\n",
            " 27%|██▋       | 583M/2.12G [00:11<00:23, 71.8MB/s]\u001b[A\n",
            "\n",
            " 36%|███▌      | 630M/1.70G [00:11<00:11, 99.5MB/s]\u001b[A\u001b[A\n",
            "\n",
            " 37%|███▋      | 640M/1.70G [00:12<00:37, 31.0MB/s]\u001b[A\u001b[A\n",
            " 27%|██▋       | 591M/2.12G [00:12<01:09, 23.8MB/s]\u001b[A\n",
            "\n",
            " 37%|███▋      | 650M/1.70G [00:12<00:29, 38.7MB/s]\u001b[A\u001b[A\n",
            " 28%|██▊       | 602M/2.12G [00:12<00:49, 32.9MB/s]\u001b[A\n",
            " 28%|██▊       | 611M/2.12G [00:12<00:40, 40.3MB/s]\u001b[A\n",
            "\n",
            " 38%|███▊      | 660M/1.70G [00:12<00:24, 46.6MB/s]\u001b[A\u001b[A\n",
            "\n",
            " 39%|███▊      | 673M/1.70G [00:12<00:18, 60.3MB/s]\u001b[A\u001b[A\n",
            " 29%|██▊       | 619M/2.12G [00:12<00:37, 43.2MB/s]\u001b[A\n",
            "\n",
            " 39%|███▉      | 684M/1.70G [00:12<00:15, 69.5MB/s]\u001b[A\u001b[A\n",
            " 29%|██▉       | 626M/2.12G [00:12<00:35, 45.0MB/s]\u001b[A\n",
            "\n",
            " 40%|████      | 697M/1.70G [00:12<00:13, 79.8MB/s]\u001b[A\u001b[A\n",
            " 29%|██▉       | 638M/2.12G [00:13<00:27, 59.2MB/s]\u001b[A\n",
            "\n",
            " 41%|████      | 707M/1.70G [00:12<00:12, 83.7MB/s]\u001b[A\u001b[A\n",
            " 30%|██▉       | 646M/2.12G [00:13<00:25, 63.4MB/s]\u001b[A\n",
            "\n",
            " 41%|████      | 717M/1.70G [00:13<00:12, 88.5MB/s]\u001b[A\u001b[A\n",
            " 30%|███       | 654M/2.12G [00:13<00:23, 67.5MB/s]\u001b[A\n",
            " 31%|███       | 662M/2.12G [00:13<00:22, 70.8MB/s]\u001b[A\n",
            "\n",
            " 42%|████▏     | 727M/1.70G [00:13<00:15, 67.7MB/s]\u001b[A\u001b[A\n",
            "\n",
            " 42%|████▏     | 736M/1.70G [00:13<00:15, 68.8MB/s]\u001b[A\u001b[A\n",
            " 31%|███       | 670M/2.12G [00:13<00:26, 58.5MB/s]\u001b[A\n",
            "\n",
            " 43%|████▎     | 744M/1.70G [00:13<00:15, 67.3MB/s]\u001b[A\u001b[A\n",
            " 31%|███▏      | 677M/2.12G [00:13<00:29, 53.2MB/s]\u001b[A\n",
            "\n",
            " 43%|████▎     | 755M/1.70G [00:13<00:13, 77.3MB/s]\u001b[A\u001b[A\n",
            " 32%|███▏      | 683M/2.12G [00:13<00:28, 54.4MB/s]\u001b[A\n",
            "\n",
            " 44%|████▍     | 765M/1.70G [00:13<00:12, 83.9MB/s]\u001b[A\u001b[A\n",
            " 32%|███▏      | 690M/2.12G [00:13<00:26, 58.6MB/s]\u001b[A\n",
            "\n",
            " 44%|████▍     | 774M/1.70G [00:13<00:13, 77.1MB/s]\u001b[A\u001b[A\n",
            " 32%|███▏      | 703M/2.12G [00:14<00:19, 77.2MB/s]\u001b[A\n",
            "\n",
            " 45%|████▌     | 786M/1.70G [00:14<00:11, 88.4MB/s]\u001b[A\u001b[A\n",
            " 33%|███▎      | 712M/2.12G [00:14<00:20, 73.5MB/s]\u001b[A\n",
            "\n",
            " 46%|████▌     | 797M/1.70G [00:14<00:10, 94.8MB/s]\u001b[A\u001b[A\n",
            " 33%|███▎      | 722M/2.12G [00:14<00:19, 79.4MB/s]\u001b[A\n",
            "\n",
            " 46%|████▋     | 807M/1.70G [00:14<00:10, 93.8MB/s]\u001b[A\u001b[A\n",
            " 34%|███▍      | 731M/2.12G [00:14<00:18, 81.6MB/s]\u001b[A\n",
            "\n",
            " 47%|████▋     | 817M/1.70G [00:14<00:10, 90.0MB/s]\u001b[A\u001b[A\n",
            " 34%|███▍      | 740M/2.12G [00:14<00:17, 83.8MB/s]\u001b[A\n",
            "\n",
            " 48%|████▊     | 829M/1.70G [00:14<00:09, 98.2MB/s]\u001b[A\u001b[A\n",
            " 35%|███▍      | 749M/2.12G [00:14<00:17, 84.2MB/s]\u001b[A\n",
            "\n",
            " 48%|████▊     | 839M/1.70G [00:14<00:09, 95.3MB/s]\u001b[A\u001b[A\n",
            " 35%|███▌      | 759M/2.12G [00:14<00:16, 89.8MB/s]\u001b[A\n",
            " 36%|███▌      | 769M/2.12G [00:14<00:15, 93.3MB/s]\u001b[A\n",
            "\n",
            " 49%|████▉     | 849M/1.70G [00:14<00:09, 93.8MB/s]\u001b[A\u001b[A\n",
            " 36%|███▌      | 780M/2.12G [00:14<00:14, 97.7MB/s]\u001b[A\n",
            "\n",
            " 49%|████▉     | 859M/1.70G [00:14<00:10, 91.0MB/s]\u001b[A\u001b[A\n",
            " 37%|███▋      | 793M/2.12G [00:15<00:13, 106MB/s] \u001b[A\n",
            "\n",
            " 50%|████▉     | 868M/1.70G [00:14<00:10, 89.9MB/s]\u001b[A\u001b[A\n",
            " 37%|███▋      | 804M/2.12G [00:15<00:13, 107MB/s]\u001b[A\n",
            "\n",
            " 50%|█████     | 877M/1.70G [00:15<00:10, 87.0MB/s]\u001b[A\u001b[A\n",
            "\n",
            " 51%|█████     | 886M/1.70G [00:15<00:10, 85.0MB/s]\u001b[A\u001b[A\n",
            " 38%|███▊      | 815M/2.12G [00:15<00:16, 84.8MB/s]\u001b[A\n",
            "\n",
            " 51%|█████▏    | 895M/1.70G [00:15<00:12, 69.5MB/s]\u001b[A\u001b[A\n",
            " 38%|███▊      | 824M/2.12G [00:15<00:18, 74.1MB/s]\u001b[A\n",
            "\n",
            " 52%|█████▏    | 904M/1.70G [00:15<00:11, 73.7MB/s]\u001b[A\u001b[A\n",
            " 38%|███▊      | 832M/2.12G [00:15<00:18, 75.1MB/s]\u001b[A\n",
            "\n",
            " 52%|█████▏    | 912M/1.70G [00:15<00:11, 75.6MB/s]\u001b[A\u001b[A\n",
            " 39%|███▉      | 843M/2.12G [00:15<00:16, 83.7MB/s]\u001b[A\n",
            " 40%|███▉      | 856M/2.12G [00:15<00:14, 95.7MB/s]\u001b[A\n",
            "\n",
            " 53%|█████▎    | 921M/1.70G [00:15<00:12, 71.1MB/s]\u001b[A\u001b[A\n",
            " 40%|███▉      | 866M/2.12G [00:15<00:13, 97.5MB/s]\u001b[A\n",
            "\n",
            " 53%|█████▎    | 931M/1.70G [00:15<00:10, 77.9MB/s]\u001b[A\u001b[A\n",
            " 41%|████      | 878M/2.12G [00:16<00:12, 104MB/s] \u001b[A\n",
            "\n",
            " 54%|█████▍    | 939M/1.70G [00:16<00:11, 70.3MB/s]\u001b[A\u001b[A\n",
            " 41%|████      | 889M/2.12G [00:16<00:12, 104MB/s]\u001b[A\n",
            "\n",
            " 55%|█████▍    | 950M/1.70G [00:16<00:10, 80.9MB/s]\u001b[A\u001b[A\n",
            "\n",
            " 56%|█████▌    | 967M/1.70G [00:16<00:07, 105MB/s] \u001b[A\u001b[A\n",
            " 42%|████▏     | 900M/2.12G [00:16<00:17, 73.9MB/s]\u001b[A\n",
            "\n",
            " 56%|█████▌    | 978M/1.70G [00:16<00:07, 105MB/s]\u001b[A\u001b[A\n",
            " 42%|████▏     | 909M/2.12G [00:16<00:17, 76.9MB/s]\u001b[A\n",
            "\n",
            " 57%|█████▋    | 989M/1.70G [00:16<00:07, 103MB/s]\u001b[A\u001b[A\n",
            " 43%|████▎     | 921M/2.12G [00:16<00:14, 87.9MB/s]\u001b[A\n",
            "\n",
            " 57%|█████▋    | 0.98G/1.70G [00:16<00:07, 105MB/s]\u001b[A\u001b[A\n",
            "\n",
            " 58%|█████▊    | 0.99G/1.70G [00:16<00:06, 110MB/s]\u001b[A\u001b[A\n",
            " 43%|████▎     | 931M/2.12G [00:16<00:15, 81.4MB/s]\u001b[A\n",
            " 43%|████▎     | 940M/2.12G [00:16<00:15, 82.6MB/s]\u001b[A\n",
            "\n",
            " 59%|█████▊    | 1.00G/1.70G [00:16<00:09, 76.3MB/s]\u001b[A\u001b[A\n",
            " 44%|████▍     | 949M/2.12G [00:17<00:18, 70.7MB/s]\u001b[A\n",
            " 44%|████▍     | 957M/2.12G [00:17<00:18, 67.3MB/s]\u001b[A\n",
            "\n",
            " 59%|█████▉    | 1.01G/1.70G [00:17<00:11, 64.5MB/s]\u001b[A\u001b[A\n",
            " 45%|████▍     | 964M/2.12G [00:17<00:19, 65.9MB/s]\u001b[A\n",
            "\n",
            " 60%|█████▉    | 1.02G/1.70G [00:17<00:11, 64.5MB/s]\u001b[A\u001b[A\n",
            " 45%|████▍     | 971M/2.12G [00:17<00:19, 65.2MB/s]\u001b[A\n",
            "\n",
            " 60%|██████    | 1.02G/1.70G [00:17<00:11, 63.6MB/s]\u001b[A\u001b[A\n",
            " 45%|████▌     | 978M/2.12G [00:17<00:19, 63.6MB/s]\u001b[A\n",
            "\n",
            " 61%|██████    | 1.03G/1.70G [00:17<00:11, 62.9MB/s]\u001b[A\u001b[A\n",
            " 45%|████▌     | 985M/2.12G [00:17<00:19, 64.7MB/s]\u001b[A\n",
            "\n",
            " 61%|██████    | 1.04G/1.70G [00:17<00:11, 62.8MB/s]\u001b[A\u001b[A\n",
            " 46%|████▌     | 992M/2.12G [00:17<00:18, 65.3MB/s]\u001b[A\n",
            "\n",
            " 61%|██████▏   | 1.04G/1.70G [00:17<00:10, 64.5MB/s]\u001b[A\u001b[A\n",
            " 46%|████▌     | 0.98G/2.12G [00:17<00:17, 68.9MB/s]\u001b[A\n",
            "\n",
            " 62%|██████▏   | 1.05G/1.70G [00:17<00:10, 66.5MB/s]\u001b[A\u001b[A\n",
            " 46%|████▋     | 0.98G/2.12G [00:18<00:17, 69.8MB/s]\u001b[A\n",
            "\n",
            " 62%|██████▏   | 1.06G/1.70G [00:17<00:10, 67.7MB/s]\u001b[A\u001b[A\n",
            " 47%|████▋     | 0.99G/2.12G [00:18<00:16, 73.2MB/s]\u001b[A\n",
            "\n",
            " 63%|██████▎   | 1.07G/1.70G [00:18<00:09, 69.0MB/s]\u001b[A\u001b[A\n",
            " 47%|████▋     | 1.00G/2.12G [00:18<00:16, 72.2MB/s]\u001b[A\n",
            "\n",
            " 63%|██████▎   | 1.07G/1.70G [00:18<00:09, 68.5MB/s]\u001b[A\u001b[A\n",
            " 48%|████▊     | 1.01G/2.12G [00:18<00:16, 73.8MB/s]\u001b[A\n",
            "\n",
            " 63%|██████▎   | 1.08G/1.70G [00:18<00:09, 69.1MB/s]\u001b[A\u001b[A\n",
            " 48%|████▊     | 1.01G/2.12G [00:18<00:18, 63.5MB/s]\u001b[A\n",
            "\n",
            " 64%|██████▍   | 1.09G/1.70G [00:18<00:10, 61.4MB/s]\u001b[A\u001b[A\n",
            " 48%|████▊     | 1.02G/2.12G [00:18<00:20, 57.1MB/s]\u001b[A\n",
            "\n",
            " 64%|██████▍   | 1.09G/1.70G [00:18<00:11, 55.9MB/s]\u001b[A\u001b[A\n",
            " 49%|████▊     | 1.03G/2.12G [00:18<00:20, 57.9MB/s]\u001b[A\n",
            "\n",
            " 65%|██████▍   | 1.10G/1.70G [00:18<00:11, 56.5MB/s]\u001b[A\u001b[A\n",
            " 49%|████▉     | 1.04G/2.12G [00:18<00:18, 63.5MB/s]\u001b[A\n",
            "\n",
            " 65%|██████▍   | 1.10G/1.70G [00:18<00:11, 57.4MB/s]\u001b[A\u001b[A\n",
            " 49%|████▉     | 1.04G/2.12G [00:19<00:18, 63.4MB/s]\u001b[A\n",
            "\n",
            " 65%|██████▌   | 1.11G/1.70G [00:18<00:10, 58.5MB/s]\u001b[A\u001b[A\n",
            " 50%|████▉     | 1.05G/2.12G [00:19<00:17, 64.7MB/s]\u001b[A\n",
            "\n",
            " 66%|██████▌   | 1.12G/1.70G [00:19<00:10, 61.8MB/s]\u001b[A\u001b[A\n",
            " 50%|████▉     | 1.06G/2.12G [00:19<00:16, 67.6MB/s]\u001b[A\n",
            "\n",
            " 66%|██████▌   | 1.12G/1.70G [00:19<00:09, 63.1MB/s]\u001b[A\u001b[A\n",
            " 50%|█████     | 1.06G/2.12G [00:19<00:15, 70.6MB/s]\u001b[A\n",
            "\n",
            " 67%|██████▋   | 1.13G/1.70G [00:19<00:08, 69.1MB/s]\u001b[A\u001b[A\n",
            " 51%|█████     | 1.07G/2.12G [00:19<00:15, 72.6MB/s]\u001b[A\n",
            "\n",
            " 67%|██████▋   | 1.14G/1.70G [00:19<00:08, 71.4MB/s]\u001b[A\u001b[A\n",
            " 51%|█████     | 1.08G/2.12G [00:19<00:15, 73.6MB/s]\u001b[A\n",
            "\n",
            " 68%|██████▊   | 1.15G/1.70G [00:19<00:07, 74.3MB/s]\u001b[A\u001b[A\n",
            " 51%|█████▏    | 1.09G/2.12G [00:19<00:14, 76.0MB/s]\u001b[A\n",
            "\n",
            " 68%|██████▊   | 1.16G/1.70G [00:19<00:07, 74.0MB/s]\u001b[A\u001b[A\n",
            " 52%|█████▏    | 1.10G/2.12G [00:19<00:15, 69.1MB/s]\u001b[A\n",
            "\n",
            " 69%|██████▊   | 1.17G/1.70G [00:19<00:08, 69.9MB/s]\u001b[A\u001b[A\n",
            " 52%|█████▏    | 1.10G/2.12G [00:19<00:15, 70.8MB/s]\u001b[A\n",
            "\n",
            " 69%|██████▉   | 1.17G/1.70G [00:19<00:08, 70.0MB/s]\u001b[A\u001b[A\n",
            " 52%|█████▏    | 1.11G/2.12G [00:20<00:16, 66.4MB/s]\u001b[A\n",
            "\n",
            " 69%|██████▉   | 1.18G/1.70G [00:19<00:09, 60.2MB/s]\u001b[A\u001b[A\n",
            "\n",
            " 70%|██████▉   | 1.19G/1.70G [00:20<00:08, 62.5MB/s]\u001b[A\u001b[A\n",
            " 53%|█████▎    | 1.12G/2.12G [00:20<00:19, 54.8MB/s]\u001b[A\n",
            "\n",
            " 70%|███████   | 1.19G/1.70G [00:20<00:08, 63.8MB/s]\u001b[A\u001b[A\n",
            " 53%|█████▎    | 1.12G/2.12G [00:20<00:18, 57.7MB/s]\u001b[A\n",
            "\n",
            " 71%|███████   | 1.20G/1.70G [00:20<00:08, 64.8MB/s]\u001b[A\u001b[A\n",
            " 53%|█████▎    | 1.13G/2.12G [00:20<00:17, 61.3MB/s]\u001b[A\n",
            "\n",
            " 71%|███████   | 1.21G/1.70G [00:20<00:07, 68.3MB/s]\u001b[A\u001b[A\n",
            " 54%|█████▍    | 1.14G/2.12G [00:20<00:16, 65.0MB/s]\u001b[A\n",
            "\n",
            " 71%|███████▏  | 1.21G/1.70G [00:20<00:07, 66.1MB/s]\u001b[A\u001b[A\n",
            " 54%|█████▍    | 1.15G/2.12G [00:20<00:16, 64.4MB/s]\u001b[A\n",
            "\n",
            " 72%|███████▏  | 1.22G/1.70G [00:20<00:07, 66.4MB/s]\u001b[A\u001b[A\n",
            " 54%|█████▍    | 1.15G/2.12G [00:20<00:16, 63.0MB/s]\u001b[A\n",
            "\n",
            " 72%|███████▏  | 1.23G/1.70G [00:20<00:08, 61.2MB/s]\u001b[A\u001b[A\n",
            " 55%|█████▍    | 1.16G/2.12G [00:20<00:16, 61.6MB/s]\u001b[A\n",
            "\n",
            " 73%|███████▎  | 1.23G/1.70G [00:20<00:08, 58.0MB/s]\u001b[A\u001b[A\n",
            " 55%|█████▌    | 1.17G/2.12G [00:21<00:16, 61.0MB/s]\u001b[A\n",
            " 55%|█████▌    | 1.17G/2.12G [00:22<01:11, 14.1MB/s]\u001b[A\n",
            "\n",
            " 73%|███████▎  | 1.24G/1.70G [00:22<00:37, 13.4MB/s]\u001b[A\u001b[A\n",
            " 56%|█████▌    | 1.18G/2.12G [00:22<00:51, 19.6MB/s]\u001b[A\n",
            "\n",
            " 73%|███████▎  | 1.25G/1.70G [00:22<00:23, 20.3MB/s]\u001b[A\u001b[A\n",
            " 56%|█████▌    | 1.19G/2.12G [00:22<00:42, 23.4MB/s]\u001b[A\n",
            "\n",
            " 74%|███████▍  | 1.25G/1.70G [00:22<00:19, 24.2MB/s]\u001b[A\u001b[A\n",
            "\n",
            " 74%|███████▍  | 1.26G/1.70G [00:22<00:13, 34.0MB/s]\u001b[A\u001b[A\n",
            "\n",
            " 75%|███████▌  | 1.28G/1.70G [00:22<00:08, 50.6MB/s]\u001b[A\u001b[A\n",
            "\n",
            " 76%|███████▌  | 1.29G/1.70G [00:22<00:07, 59.8MB/s]\u001b[A\u001b[A\n",
            " 57%|█████▋    | 1.20G/2.12G [00:23<00:35, 27.6MB/s]\u001b[A\n",
            " 57%|█████▋    | 1.21G/2.12G [00:23<00:26, 36.3MB/s]\u001b[A\n",
            "\n",
            " 76%|███████▋  | 1.30G/1.70G [00:23<00:07, 57.6MB/s]\u001b[A\u001b[A\n",
            "\n",
            " 77%|███████▋  | 1.31G/1.70G [00:23<00:06, 62.4MB/s]\u001b[A\u001b[A\n",
            " 57%|█████▋    | 1.21G/2.12G [00:23<00:27, 35.1MB/s]\u001b[A\n",
            " 58%|█████▊    | 1.22G/2.12G [00:23<00:24, 38.9MB/s]\u001b[A\n",
            "\n",
            " 77%|███████▋  | 1.31G/1.70G [00:23<00:07, 53.2MB/s]\u001b[A\u001b[A\n",
            " 58%|█████▊    | 1.23G/2.12G [00:23<00:22, 43.0MB/s]\u001b[A\n",
            "\n",
            " 78%|███████▊  | 1.32G/1.70G [00:23<00:06, 61.9MB/s]\u001b[A\u001b[A\n",
            "\n",
            " 78%|███████▊  | 1.33G/1.70G [00:23<00:05, 68.7MB/s]\u001b[A\u001b[A\n",
            " 58%|█████▊    | 1.24G/2.12G [00:23<00:20, 46.8MB/s]\u001b[A\n",
            "\n",
            " 79%|███████▉  | 1.34G/1.70G [00:23<00:05, 72.2MB/s]\u001b[A\u001b[A\n",
            " 59%|█████▉    | 1.24G/2.12G [00:23<00:20, 46.0MB/s]\u001b[A\n",
            "\n",
            " 80%|███████▉  | 1.35G/1.70G [00:23<00:04, 77.2MB/s]\u001b[A\u001b[A\n",
            "\n",
            " 80%|███████▉  | 1.36G/1.70G [00:23<00:04, 74.6MB/s]\u001b[A\u001b[A\n",
            " 59%|█████▉    | 1.25G/2.12G [00:24<00:19, 47.6MB/s]\u001b[A\n",
            "\n",
            " 81%|████████  | 1.37G/1.70G [00:24<00:04, 79.9MB/s]\u001b[A\u001b[A\n",
            " 60%|█████▉    | 1.26G/2.12G [00:24<00:16, 56.2MB/s]\u001b[A\n",
            "\n",
            " 81%|████████  | 1.38G/1.70G [00:24<00:03, 88.6MB/s]\u001b[A\u001b[A\n",
            " 60%|█████▉    | 1.27G/2.12G [00:24<00:18, 48.6MB/s]\u001b[A\n",
            "\n",
            " 82%|████████▏ | 1.39G/1.70G [00:24<00:03, 87.9MB/s]\u001b[A\u001b[A\n",
            " 60%|██████    | 1.27G/2.12G [00:24<00:16, 55.1MB/s]\u001b[A\n",
            "\n",
            " 82%|████████▏ | 1.40G/1.70G [00:24<00:03, 81.4MB/s]\u001b[A\u001b[A\n",
            " 61%|██████    | 1.28G/2.12G [00:24<00:14, 62.4MB/s]\u001b[A\n",
            "\n",
            " 83%|████████▎ | 1.41G/1.70G [00:24<00:03, 82.2MB/s]\u001b[A\u001b[A\n",
            " 61%|██████    | 1.29G/2.12G [00:24<00:14, 62.8MB/s]\u001b[A\n",
            "\n",
            " 83%|████████▎ | 1.42G/1.70G [00:24<00:03, 85.9MB/s]\u001b[A\u001b[A\n",
            " 61%|██████▏   | 1.30G/2.12G [00:24<00:13, 64.0MB/s]\u001b[A\n",
            "\n",
            " 84%|████████▍ | 1.43G/1.70G [00:24<00:02, 99.6MB/s]\u001b[A\u001b[A\n",
            "\n",
            " 85%|████████▍ | 1.45G/1.70G [00:24<00:02, 109MB/s] \u001b[A\u001b[A\n",
            " 62%|██████▏   | 1.31G/2.12G [00:25<00:15, 57.2MB/s]\u001b[A\n",
            "\n",
            " 86%|████████▌ | 1.46G/1.70G [00:25<00:02, 110MB/s]\u001b[A\u001b[A\n",
            " 62%|██████▏   | 1.32G/2.12G [00:25<00:12, 69.9MB/s]\u001b[A\n",
            "\n",
            " 86%|████████▌ | 1.47G/1.70G [00:25<00:02, 110MB/s]\u001b[A\u001b[A\n",
            " 63%|██████▎   | 1.33G/2.12G [00:25<00:11, 74.1MB/s]\u001b[A\n",
            "\n",
            " 87%|████████▋ | 1.48G/1.70G [00:25<00:02, 102MB/s]\u001b[A\u001b[A\n",
            " 63%|██████▎   | 1.34G/2.12G [00:25<00:10, 82.6MB/s]\u001b[A\n",
            "\n",
            " 87%|████████▋ | 1.49G/1.70G [00:25<00:02, 96.1MB/s]\u001b[A\u001b[A\n",
            " 64%|██████▎   | 1.34G/2.12G [00:25<00:09, 85.4MB/s]\u001b[A\n",
            "\n",
            " 88%|████████▊ | 1.50G/1.70G [00:25<00:02, 106MB/s] \u001b[A\u001b[A\n",
            " 64%|██████▍   | 1.35G/2.12G [00:25<00:11, 71.7MB/s]\u001b[A\n",
            "\n",
            " 89%|████████▉ | 1.52G/1.70G [00:25<00:01, 119MB/s]\u001b[A\u001b[A\n",
            " 65%|██████▍   | 1.37G/2.12G [00:25<00:09, 84.5MB/s]\u001b[A\n",
            "\n",
            " 90%|████████▉ | 1.53G/1.70G [00:25<00:01, 117MB/s]\u001b[A\u001b[A\n",
            " 65%|██████▍   | 1.37G/2.12G [00:25<00:11, 69.7MB/s]\u001b[A\n",
            "\n",
            " 91%|█████████ | 1.54G/1.70G [00:25<00:01, 99.4MB/s]\u001b[A\u001b[A\n",
            " 65%|██████▌   | 1.38G/2.12G [00:26<00:10, 74.7MB/s]\u001b[A\n",
            "\n",
            " 91%|█████████ | 1.55G/1.70G [00:25<00:01, 99.8MB/s]\u001b[A\u001b[A\n",
            " 66%|██████▌   | 1.39G/2.12G [00:26<00:10, 74.7MB/s]\u001b[A\n",
            "\n",
            " 92%|█████████▏| 1.56G/1.70G [00:26<00:01, 102MB/s] \u001b[A\u001b[A\n",
            " 66%|██████▋   | 1.40G/2.12G [00:26<00:09, 83.9MB/s]\u001b[A\n",
            "\n",
            " 93%|█████████▎| 1.57G/1.70G [00:26<00:01, 108MB/s]\u001b[A\u001b[A\n",
            " 67%|██████▋   | 1.41G/2.12G [00:26<00:08, 91.4MB/s]\u001b[A\n",
            "\n",
            " 93%|█████████▎| 1.58G/1.70G [00:26<00:01, 100MB/s]\u001b[A\u001b[A\n",
            " 67%|██████▋   | 1.42G/2.12G [00:26<00:08, 90.9MB/s]\u001b[A\n",
            "\n",
            " 94%|█████████▎| 1.59G/1.70G [00:26<00:01, 87.1MB/s]\u001b[A\u001b[A\n",
            " 68%|██████▊   | 1.43G/2.12G [00:26<00:08, 86.6MB/s]\u001b[A\n",
            "\n",
            " 94%|█████████▍| 1.60G/1.70G [00:26<00:01, 82.8MB/s]\u001b[A\u001b[A\n",
            " 68%|██████▊   | 1.44G/2.12G [00:26<00:10, 70.8MB/s]\u001b[A\n",
            "\n",
            " 95%|█████████▍| 1.61G/1.70G [00:26<00:01, 78.2MB/s]\u001b[A\u001b[A\n",
            " 68%|██████▊   | 1.45G/2.12G [00:26<00:09, 73.6MB/s]\u001b[A\n",
            "\n",
            " 95%|█████████▌| 1.62G/1.70G [00:26<00:01, 83.3MB/s]\u001b[A\u001b[A\n",
            " 69%|██████▉   | 1.46G/2.12G [00:27<00:08, 80.8MB/s]\u001b[A\n",
            "\n",
            " 96%|█████████▌| 1.63G/1.70G [00:26<00:00, 85.3MB/s]\u001b[A\u001b[A\n",
            " 69%|██████▉   | 1.47G/2.12G [00:27<00:08, 81.4MB/s]\u001b[A\n",
            "\n",
            " 96%|█████████▋| 1.64G/1.70G [00:27<00:00, 87.5MB/s]\u001b[A\u001b[A\n",
            " 70%|██████▉   | 1.48G/2.12G [00:27<00:07, 86.9MB/s]\u001b[A\n",
            "\n",
            " 97%|█████████▋| 1.65G/1.70G [00:27<00:00, 70.2MB/s]\u001b[A\u001b[A\n",
            " 70%|███████   | 1.48G/2.12G [00:27<00:10, 67.4MB/s]\u001b[A\n",
            "\n",
            " 97%|█████████▋| 1.66G/1.70G [00:27<00:00, 75.5MB/s]\u001b[A\u001b[A\n",
            " 71%|███████   | 1.49G/2.12G [00:27<00:09, 71.1MB/s]\u001b[A\n",
            "\n",
            " 98%|█████████▊| 1.67G/1.70G [00:27<00:00, 82.3MB/s]\u001b[A\u001b[A\n",
            " 71%|███████   | 1.50G/2.12G [00:27<00:08, 74.9MB/s]\u001b[A\n",
            "\n",
            " 99%|█████████▊| 1.68G/1.70G [00:27<00:00, 90.1MB/s]\u001b[A\u001b[A\n",
            " 71%|███████▏  | 1.51G/2.12G [00:27<00:08, 75.7MB/s]\u001b[A\n",
            "\n",
            " 99%|█████████▉| 1.69G/1.70G [00:27<00:00, 89.7MB/s]\u001b[A\u001b[A\n",
            " 72%|███████▏  | 1.52G/2.12G [00:27<00:08, 79.7MB/s]\u001b[A\n",
            "\n",
            "100%|██████████| 1.70G/1.70G [00:27<00:00, 65.5MB/s]\n",
            "\n",
            " 72%|███████▏  | 1.53G/2.12G [00:28<00:08, 76.6MB/s]\u001b[A\n",
            " 73%|███████▎  | 1.54G/2.12G [00:28<00:06, 98.0MB/s]\u001b[A\n",
            " 74%|███████▎  | 1.56G/2.12G [00:28<00:05, 112MB/s] \u001b[A\n",
            " 74%|███████▍  | 1.57G/2.12G [00:28<00:05, 105MB/s]\u001b[A\n",
            " 75%|███████▍  | 1.58G/2.12G [00:28<00:05, 107MB/s]\u001b[A\n",
            " 75%|███████▌  | 1.59G/2.12G [00:28<00:06, 89.3MB/s]\u001b[A\n",
            " 76%|███████▌  | 1.61G/2.12G [00:28<00:05, 101MB/s] \u001b[A\n",
            " 77%|███████▋  | 1.62G/2.12G [00:28<00:04, 112MB/s]\u001b[A\n",
            " 77%|███████▋  | 1.63G/2.12G [00:29<00:05, 92.3MB/s]\u001b[A\n",
            " 78%|███████▊  | 1.64G/2.12G [00:29<00:06, 78.4MB/s]\u001b[A\n",
            " 78%|███████▊  | 1.66G/2.12G [00:29<00:05, 95.5MB/s]\u001b[A\n",
            " 79%|███████▉  | 1.67G/2.12G [00:29<00:04, 101MB/s] \u001b[A\n",
            " 80%|███████▉  | 1.69G/2.12G [00:29<00:04, 114MB/s]\u001b[A\n",
            " 80%|████████  | 1.70G/2.12G [00:29<00:03, 124MB/s]\u001b[A\n",
            " 81%|████████  | 1.71G/2.12G [00:29<00:03, 122MB/s]\u001b[A\n",
            " 82%|████████▏ | 1.73G/2.12G [00:30<00:04, 95.5MB/s]\u001b[A\n",
            " 82%|████████▏ | 1.74G/2.12G [00:30<00:03, 104MB/s] \u001b[A\n",
            " 83%|████████▎ | 1.75G/2.12G [00:30<00:03, 103MB/s]\u001b[A\n",
            " 83%|████████▎ | 1.76G/2.12G [00:30<00:04, 76.8MB/s]\u001b[A\n",
            " 84%|████████▍ | 1.78G/2.12G [00:30<00:03, 96.8MB/s]\u001b[A\n",
            " 85%|████████▍ | 1.79G/2.12G [00:30<00:03, 102MB/s] \u001b[A\n",
            " 85%|████████▌ | 1.80G/2.12G [00:31<00:04, 69.5MB/s]\u001b[A\n",
            " 86%|████████▌ | 1.82G/2.12G [00:31<00:03, 92.2MB/s]\u001b[A\n",
            " 87%|████████▋ | 1.83G/2.12G [00:31<00:03, 91.5MB/s]\u001b[A\n",
            " 87%|████████▋ | 1.84G/2.12G [00:31<00:02, 98.1MB/s]\u001b[A\n",
            " 88%|████████▊ | 1.85G/2.12G [00:31<00:03, 85.1MB/s]\u001b[A\n",
            " 88%|████████▊ | 1.86G/2.12G [00:31<00:03, 88.0MB/s]\u001b[A\n",
            " 89%|████████▊ | 1.87G/2.12G [00:31<00:02, 88.9MB/s]\u001b[A\n",
            " 89%|████████▉ | 1.88G/2.12G [00:32<00:02, 93.5MB/s]\u001b[A\n",
            " 90%|████████▉ | 1.90G/2.12G [00:32<00:02, 106MB/s] \u001b[A\n",
            " 90%|█████████ | 1.91G/2.12G [00:32<00:01, 111MB/s]\u001b[A\n",
            " 91%|█████████ | 1.92G/2.12G [00:32<00:02, 98.7MB/s]\u001b[A\n",
            " 91%|█████████▏| 1.93G/2.12G [00:32<00:01, 107MB/s] \u001b[A\n",
            " 92%|█████████▏| 1.95G/2.12G [00:32<00:01, 104MB/s]\u001b[A\n",
            " 93%|█████████▎| 1.96G/2.12G [00:32<00:01, 117MB/s]\u001b[A\n",
            " 93%|█████████▎| 1.97G/2.12G [00:32<00:01, 106MB/s]\u001b[A\n",
            " 94%|█████████▍| 1.98G/2.12G [00:33<00:01, 92.6MB/s]\u001b[A\n",
            " 94%|█████████▍| 1.99G/2.12G [00:33<00:01, 86.4MB/s]\u001b[A\n",
            " 95%|█████████▍| 2.00G/2.12G [00:33<00:01, 68.3MB/s]\u001b[A\n",
            " 95%|█████████▌| 2.02G/2.12G [00:33<00:01, 84.0MB/s]\u001b[A\n",
            " 96%|█████████▌| 2.03G/2.12G [00:33<00:01, 91.6MB/s]\u001b[A\n",
            " 96%|█████████▋| 2.04G/2.12G [00:33<00:00, 96.2MB/s]\u001b[A\n",
            " 97%|█████████▋| 2.05G/2.12G [00:33<00:00, 108MB/s] \u001b[A\n",
            " 98%|█████████▊| 2.06G/2.12G [00:33<00:00, 89.9MB/s]\u001b[A\n",
            " 98%|█████████▊| 2.08G/2.12G [00:34<00:00, 103MB/s] \u001b[A\n",
            " 99%|█████████▉| 2.09G/2.12G [00:34<00:00, 115MB/s]\u001b[A\n",
            "100%|██████████| 2.12G/2.12G [00:34<00:00, 66.0MB/s]\n"
          ]
        }
      ],
      "source": [
        "import kagglehub\n",
        "\n",
        "GEMMA_PATH = kagglehub.model_download(f'google/gemma-2/flax/{GEMMA_VARIANT}')"
      ]
    },
    {
      "cell_type": "code",
      "execution_count": null,
      "metadata": {
        "id": "nYmYTMk8aELi"
      },
      "outputs": [
        {
          "name": "stdout",
          "output_type": "stream",
          "text": [
            "GEMMA_PATH: /root/.cache/kagglehub/models/google/gemma-2-2b/flax/gemma2-2b-it/1\n"
          ]
        }
      ],
      "source": [
        "print('GEMMA_PATH:', GEMMA_PATH)"
      ]
    },
    {
      "cell_type": "markdown",
      "metadata": {
        "id": "ytNi47xSlw71"
      },
      "source": [
        "**Note:** The path from the output above is where the model weights and tokenizer are saved locally, you will need them for later."
      ]
    },
    {
      "cell_type": "markdown",
      "metadata": {
        "id": "92BcvYdemXbd"
      },
      "source": [
        "2. Check the location of the model weights and the tokenizer, then set the path variables. The tokenizer directory will be in the main directory where you downloaded the model, while the model weights will be in a sub-directory. For example:\n",
        "\n",
        "- The `tokenizer.model` file will be in `/LOCAL/PATH/TO/gemma/flax/2b-it/2`).\n",
        "- The model checkpoint will be in `/LOCAL/PATH/TO/gemma/flax/2b-it/2/2b-it`)."
      ]
    },
    {
      "cell_type": "code",
      "execution_count": null,
      "metadata": {
        "id": "QY6OnASOpZbW"
      },
      "outputs": [
        {
          "name": "stdout",
          "output_type": "stream",
          "text": [
            "CKPT_PATH: /root/.cache/kagglehub/models/google/gemma-2-2b/flax/gemma2-2b-it/1/gemma2-2b-it\n",
            "TOKENIZER_PATH: /root/.cache/kagglehub/models/google/gemma-2-2b/flax/gemma2-2b-it/1/tokenizer.model\n"
          ]
        }
      ],
      "source": [
        "CKPT_PATH = os.path.join(GEMMA_PATH, GEMMA_VARIANT)\n",
        "TOKENIZER_PATH = os.path.join(GEMMA_PATH, 'tokenizer.model')\n",
        "print('CKPT_PATH:', CKPT_PATH)\n",
        "print('TOKENIZER_PATH:', TOKENIZER_PATH)"
      ]
    },
    {
      "cell_type": "markdown",
      "metadata": {
        "id": "jc0ZzYIW0TSN"
      },
      "source": [
        "## Perform sampling/inference"
      ]
    },
    {
      "cell_type": "markdown",
      "metadata": {
        "id": "aEe3p8geqekV"
      },
      "source": [
        "1. Load and format the Gemma model checkpoint with the [`gemma.params.load_and_format_params`](https://github.com/google-deepmind/gemma/blob/c6bd156c246530e1620a7c62de98542a377e3934/gemma/params.py#L27) method:"
      ]
    },
    {
      "cell_type": "code",
      "execution_count": null,
      "metadata": {
        "id": "Mnr52JQVqKRw"
      },
      "outputs": [],
      "source": [
        "from gemma import params as params_lib\n",
        "\n",
        "params = params_lib.load_and_format_params(CKPT_PATH)"
      ]
    },
    {
      "cell_type": "markdown",
      "metadata": {
        "id": "-Xpnb2igrGjk"
      },
      "source": [
        "2. Load the Gemma tokenizer, constructed using [`sentencepiece.SentencePieceProcessor`](https://github.com/google/sentencepiece/blob/4d6a1f41069c4636c51a5590f7578a0dbed83450/python/src/sentencepiece/__init__.py#L423):"
      ]
    },
    {
      "cell_type": "code",
      "execution_count": null,
      "metadata": {
        "id": "-T0ZHff5rNSy"
      },
      "outputs": [
        {
          "data": {
            "text/plain": [
              "True"
            ]
          },
          "execution_count": 9,
          "metadata": {},
          "output_type": "execute_result"
        }
      ],
      "source": [
        "import sentencepiece as spm\n",
        "\n",
        "vocab = spm.SentencePieceProcessor()\n",
        "vocab.Load(TOKENIZER_PATH)"
      ]
    },
    {
      "cell_type": "markdown",
      "metadata": {
        "id": "IkAf4fkNrY-3"
      },
      "source": [
        "3. To automatically load the correct configuration from the Gemma model checkpoint, use [`gemma.transformer.TransformerConfig`](https://github.com/google-deepmind/gemma/blob/56e501ce147af4ea5c23cc0ddf5a9c4a6b7bd0d0/gemma/transformer.py#L65). The `cache_size` argument is the number of time steps in the Gemma `Transformer` cache. Afterwards, instantiate the Gemma model as `transformer` with [`gemma.transformer.Transformer`](https://github.com/google-deepmind/gemma/blob/56e501ce147af4ea5c23cc0ddf5a9c4a6b7bd0d0/gemma/transformer.py#L136) (which inherits from [`flax.linen.Module`](https://flax.readthedocs.io/en/latest/api_reference/flax.linen/module.html)).\n",
        "\n",
        "**Note:** The vocabulary size is smaller than the number of input embeddings because of unused tokens in the current Gemma release."
      ]
    },
    {
      "cell_type": "code",
      "execution_count": null,
      "metadata": {
        "id": "4PNWxDhvrRXJ"
      },
      "outputs": [],
      "source": [
        "from gemma import transformer as transformer_lib\n",
        "\n",
        "transformer_config = transformer_lib.TransformerConfig.from_params(\n",
        "    params=params,\n",
        "    cache_size=1024\n",
        ")\n",
        "\n",
        "transformer = transformer_lib.Transformer(transformer_config)"
      ]
    },
    {
      "cell_type": "markdown",
      "metadata": {
        "id": "vs0vgmXVroBq"
      },
      "source": [
        "3. Create a `sampler` with [`gemma.sampler.Sampler`](https://github.com/google-deepmind/gemma/blob/c6bd156c246530e1620a7c62de98542a377e3934/gemma/sampler.py#L88) on top of the Gemma model checkpoint/weights and the tokenizer:"
      ]
    },
    {
      "cell_type": "code",
      "execution_count": null,
      "metadata": {
        "id": "4GX4pFP6rtyN"
      },
      "outputs": [],
      "source": [
        "from gemma import sampler as sampler_lib\n",
        "\n",
        "sampler = sampler_lib.Sampler(\n",
        "    transformer=transformer,\n",
        "    vocab=vocab,\n",
        "    params=params['transformer'],\n",
        ")"
      ]
    },
    {
      "cell_type": "markdown",
      "metadata": {
        "id": "V9yU99Xxr59w"
      },
      "source": [
        "4. Write a prompt in `input_batch` and perform inference. You can tweak `total_generation_steps` (the number of steps performed when generating a response — this example uses `100` to preserve host memory).\n",
        "\n",
        "**Note:** If you run out of memory, click on **Runtime** > **Disconnect and delete runtime**, and then **Runtime** > **Run all**."
      ]
    },
    {
      "cell_type": "code",
      "execution_count": null,
      "metadata": {
        "id": "Gj9jRFI5Hrv2"
      },
      "outputs": [
        {
          "name": "stdout",
          "output_type": "stream",
          "text": [
            "Prompt:\n",
            "what is JAX in 3 bullet points?\n",
            "Output:\n",
            "\n",
            "\n",
            "* **High-performance numerical computation:** JAX leverages the power of GPUs and TPUs to accelerate complex mathematical operations, making it ideal for scientific computing, machine learning, and data analysis.\n",
            "* **Automatic differentiation:** JAX provides automatic differentiation capabilities, allowing you to compute gradients and optimize models efficiently. This simplifies the process of training deep learning models.\n",
            "* **Functional programming:** JAX embraces functional programming principles, promoting code readability and maintainability. It offers a flexible and expressive syntax for defining and manipulating data. \n",
            "\n",
            "\n",
            "<end_of_turn>\n"
          ]
        }
      ],
      "source": [
        "prompt = [\n",
        "    \"what is JAX in 3 bullet points?\",\n",
        "]\n",
        "\n",
        "reply = sampler(input_strings=prompt,\n",
        "                total_generation_steps=128,\n",
        "                )\n",
        "\n",
        "for input_string, out_string in zip(prompt, reply.text):\n",
        "    print(f\"Prompt:\\n{input_string}\\nOutput:\\n{out_string}\")"
      ]
    },
    {
      "cell_type": "markdown",
      "metadata": {
        "id": "njxRJy3qsBWw"
      },
      "source": [
        "5. (Optional) Run this cell to free up memory if you have completed the notebook and want to try another prompt. Afterwards, you can instantiate the `sampler` again in step 3 and customize and run the prompt in step 4."
      ]
    },
    {
      "cell_type": "code",
      "execution_count": null,
      "metadata": {
        "id": "qxX6qfFdNGHy"
      },
      "outputs": [],
      "source": [
        "del sampler"
      ]
    },
    {
      "cell_type": "markdown",
      "metadata": {
        "id": "bzKsCGIN0yX5"
      },
      "source": [
        "## Learn more\n",
        "\n",
        "- You can learn more about the Google DeepMind [`gemma`  library on GitHub](https://github.com/google-deepmind/gemma), which contains docstrings of modules you used in this tutorial, such as [`gemma.params`](https://github.com/google-deepmind/gemma/blob/main/gemma/params.py),\n",
        "[`gemma.transformer`](https://github.com/google-deepmind/gemma/blob/main/gemma/transformer.py), and\n",
        "[`gemma.sampler`](https://github.com/google-deepmind/gemma/blob/main/gemma/sampler.py).\n",
        "- The following libraries have their own documentation sites: [core JAX](https://jax.readthedocs.io), [Flax](https://flax.readthedocs.io), and [Orbax](https://orbax.readthedocs.io/).\n",
        "- For `sentencepiece` tokenizer/detokenizer documentation, check out [Google's `sentencepiece` GitHub repo](https://github.com/google/sentencepiece).\n",
        "- For `kagglehub` documentation, check out `README.md` on [Kaggle's `kagglehub` GitHub repo](https://github.com/Kaggle/kagglehub).\n",
        "- Learn how to [use Gemma models with Google Cloud Vertex AI](https://cloud.google.com/vertex-ai/docs/generative-ai/open-models/use-gemma)."
      ]
    }
  ],
  "metadata": {
    "accelerator": "GPU",
    "colab": {
      "name": "jax_inference.ipynb",
      "toc_visible": true
    },
    "kernelspec": {
      "display_name": "Python 3",
      "name": "python3"
    }
  },
  "nbformat": 4,
  "nbformat_minor": 0
}
